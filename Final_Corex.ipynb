{
  "nbformat": 4,
  "nbformat_minor": 0,
  "metadata": {
    "colab": {
      "name": "Final Corex.ipynb",
      "provenance": [],
      "collapsed_sections": []
    },
    "kernelspec": {
      "name": "python3",
      "display_name": "Python 3"
    },
    "language_info": {
      "name": "python"
    }
  },
  "cells": [
    {
      "cell_type": "code",
      "source": [
        "!pip install google.colab"
      ],
      "metadata": {
        "colab": {
          "base_uri": "https://localhost:8080/"
        },
        "id": "4EbolF_-FGe4",
        "outputId": "203e78d5-6291-49d7-a927-f561f0d51081"
      },
      "execution_count": null,
      "outputs": [
        {
          "output_type": "stream",
          "name": "stdout",
          "text": [
            "Requirement already satisfied: google.colab in /usr/local/lib/python3.7/dist-packages (1.0.0)\n",
            "Requirement already satisfied: six~=1.15.0 in /usr/local/lib/python3.7/dist-packages (from google.colab) (1.15.0)\n",
            "Requirement already satisfied: tornado~=5.1.0 in /usr/local/lib/python3.7/dist-packages (from google.colab) (5.1.1)\n",
            "Requirement already satisfied: ipykernel~=4.10 in /usr/local/lib/python3.7/dist-packages (from google.colab) (4.10.1)\n",
            "Requirement already satisfied: pandas>=1.1.0 in /usr/local/lib/python3.7/dist-packages (from google.colab) (1.3.5)\n",
            "Requirement already satisfied: astor~=0.8.1 in /usr/local/lib/python3.7/dist-packages (from google.colab) (0.8.1)\n",
            "Requirement already satisfied: google-auth>=1.17.2 in /usr/local/lib/python3.7/dist-packages (from google.colab) (1.35.0)\n",
            "Requirement already satisfied: requests~=2.23.0 in /usr/local/lib/python3.7/dist-packages (from google.colab) (2.23.0)\n",
            "Requirement already satisfied: notebook~=5.3.0 in /usr/local/lib/python3.7/dist-packages (from google.colab) (5.3.1)\n",
            "Requirement already satisfied: portpicker~=1.3.1 in /usr/local/lib/python3.7/dist-packages (from google.colab) (1.3.9)\n",
            "Requirement already satisfied: ipython~=5.5.0 in /usr/local/lib/python3.7/dist-packages (from google.colab) (5.5.0)\n",
            "Requirement already satisfied: cachetools<5.0,>=2.0.0 in /usr/local/lib/python3.7/dist-packages (from google-auth>=1.17.2->google.colab) (4.2.4)\n",
            "Requirement already satisfied: pyasn1-modules>=0.2.1 in /usr/local/lib/python3.7/dist-packages (from google-auth>=1.17.2->google.colab) (0.2.8)\n",
            "Requirement already satisfied: setuptools>=40.3.0 in /usr/local/lib/python3.7/dist-packages (from google-auth>=1.17.2->google.colab) (57.4.0)\n",
            "Requirement already satisfied: rsa<5,>=3.1.4 in /usr/local/lib/python3.7/dist-packages (from google-auth>=1.17.2->google.colab) (4.8)\n",
            "Requirement already satisfied: jupyter-client in /usr/local/lib/python3.7/dist-packages (from ipykernel~=4.10->google.colab) (5.3.5)\n",
            "Requirement already satisfied: traitlets>=4.1.0 in /usr/local/lib/python3.7/dist-packages (from ipykernel~=4.10->google.colab) (5.1.1)\n",
            "Requirement already satisfied: simplegeneric>0.8 in /usr/local/lib/python3.7/dist-packages (from ipython~=5.5.0->google.colab) (0.8.1)\n",
            "Requirement already satisfied: pexpect in /usr/local/lib/python3.7/dist-packages (from ipython~=5.5.0->google.colab) (4.8.0)\n",
            "Requirement already satisfied: decorator in /usr/local/lib/python3.7/dist-packages (from ipython~=5.5.0->google.colab) (4.4.2)\n",
            "Requirement already satisfied: pygments in /usr/local/lib/python3.7/dist-packages (from ipython~=5.5.0->google.colab) (2.6.1)\n",
            "Requirement already satisfied: pickleshare in /usr/local/lib/python3.7/dist-packages (from ipython~=5.5.0->google.colab) (0.7.5)\n",
            "Requirement already satisfied: prompt-toolkit<2.0.0,>=1.0.4 in /usr/local/lib/python3.7/dist-packages (from ipython~=5.5.0->google.colab) (1.0.18)\n",
            "Requirement already satisfied: nbformat in /usr/local/lib/python3.7/dist-packages (from notebook~=5.3.0->google.colab) (5.3.0)\n",
            "Requirement already satisfied: terminado>=0.8.1 in /usr/local/lib/python3.7/dist-packages (from notebook~=5.3.0->google.colab) (0.13.3)\n",
            "Requirement already satisfied: jupyter-core>=4.4.0 in /usr/local/lib/python3.7/dist-packages (from notebook~=5.3.0->google.colab) (4.10.0)\n",
            "Requirement already satisfied: ipython-genutils in /usr/local/lib/python3.7/dist-packages (from notebook~=5.3.0->google.colab) (0.2.0)\n",
            "Requirement already satisfied: nbconvert in /usr/local/lib/python3.7/dist-packages (from notebook~=5.3.0->google.colab) (5.6.1)\n",
            "Requirement already satisfied: jinja2 in /usr/local/lib/python3.7/dist-packages (from notebook~=5.3.0->google.colab) (2.11.3)\n",
            "Requirement already satisfied: Send2Trash in /usr/local/lib/python3.7/dist-packages (from notebook~=5.3.0->google.colab) (1.8.0)\n",
            "Requirement already satisfied: pyzmq>=13 in /usr/local/lib/python3.7/dist-packages (from jupyter-client->ipykernel~=4.10->google.colab) (22.3.0)\n",
            "Requirement already satisfied: python-dateutil>=2.1 in /usr/local/lib/python3.7/dist-packages (from jupyter-client->ipykernel~=4.10->google.colab) (2.8.2)\n",
            "Requirement already satisfied: numpy>=1.17.3 in /usr/local/lib/python3.7/dist-packages (from pandas>=1.1.0->google.colab) (1.21.6)\n",
            "Requirement already satisfied: pytz>=2017.3 in /usr/local/lib/python3.7/dist-packages (from pandas>=1.1.0->google.colab) (2022.1)\n",
            "Requirement already satisfied: wcwidth in /usr/local/lib/python3.7/dist-packages (from prompt-toolkit<2.0.0,>=1.0.4->ipython~=5.5.0->google.colab) (0.2.5)\n",
            "Requirement already satisfied: pyasn1<0.5.0,>=0.4.6 in /usr/local/lib/python3.7/dist-packages (from pyasn1-modules>=0.2.1->google-auth>=1.17.2->google.colab) (0.4.8)\n",
            "Requirement already satisfied: chardet<4,>=3.0.2 in /usr/local/lib/python3.7/dist-packages (from requests~=2.23.0->google.colab) (3.0.4)\n",
            "Requirement already satisfied: urllib3!=1.25.0,!=1.25.1,<1.26,>=1.21.1 in /usr/local/lib/python3.7/dist-packages (from requests~=2.23.0->google.colab) (1.24.3)\n",
            "Requirement already satisfied: certifi>=2017.4.17 in /usr/local/lib/python3.7/dist-packages (from requests~=2.23.0->google.colab) (2021.10.8)\n",
            "Requirement already satisfied: idna<3,>=2.5 in /usr/local/lib/python3.7/dist-packages (from requests~=2.23.0->google.colab) (2.10)\n",
            "Requirement already satisfied: ptyprocess in /usr/local/lib/python3.7/dist-packages (from terminado>=0.8.1->notebook~=5.3.0->google.colab) (0.7.0)\n",
            "Requirement already satisfied: MarkupSafe>=0.23 in /usr/local/lib/python3.7/dist-packages (from jinja2->notebook~=5.3.0->google.colab) (2.0.1)\n",
            "Requirement already satisfied: testpath in /usr/local/lib/python3.7/dist-packages (from nbconvert->notebook~=5.3.0->google.colab) (0.6.0)\n",
            "Requirement already satisfied: entrypoints>=0.2.2 in /usr/local/lib/python3.7/dist-packages (from nbconvert->notebook~=5.3.0->google.colab) (0.4)\n",
            "Requirement already satisfied: bleach in /usr/local/lib/python3.7/dist-packages (from nbconvert->notebook~=5.3.0->google.colab) (5.0.0)\n",
            "Requirement already satisfied: pandocfilters>=1.4.1 in /usr/local/lib/python3.7/dist-packages (from nbconvert->notebook~=5.3.0->google.colab) (1.5.0)\n",
            "Requirement already satisfied: mistune<2,>=0.8.1 in /usr/local/lib/python3.7/dist-packages (from nbconvert->notebook~=5.3.0->google.colab) (0.8.4)\n",
            "Requirement already satisfied: defusedxml in /usr/local/lib/python3.7/dist-packages (from nbconvert->notebook~=5.3.0->google.colab) (0.7.1)\n",
            "Requirement already satisfied: jsonschema>=2.6 in /usr/local/lib/python3.7/dist-packages (from nbformat->notebook~=5.3.0->google.colab) (4.3.3)\n",
            "Requirement already satisfied: fastjsonschema in /usr/local/lib/python3.7/dist-packages (from nbformat->notebook~=5.3.0->google.colab) (2.15.3)\n",
            "Requirement already satisfied: importlib-metadata in /usr/local/lib/python3.7/dist-packages (from jsonschema>=2.6->nbformat->notebook~=5.3.0->google.colab) (4.11.3)\n",
            "Requirement already satisfied: pyrsistent!=0.17.0,!=0.17.1,!=0.17.2,>=0.14.0 in /usr/local/lib/python3.7/dist-packages (from jsonschema>=2.6->nbformat->notebook~=5.3.0->google.colab) (0.18.1)\n",
            "Requirement already satisfied: attrs>=17.4.0 in /usr/local/lib/python3.7/dist-packages (from jsonschema>=2.6->nbformat->notebook~=5.3.0->google.colab) (21.4.0)\n",
            "Requirement already satisfied: importlib-resources>=1.4.0 in /usr/local/lib/python3.7/dist-packages (from jsonschema>=2.6->nbformat->notebook~=5.3.0->google.colab) (5.7.1)\n",
            "Requirement already satisfied: typing-extensions in /usr/local/lib/python3.7/dist-packages (from jsonschema>=2.6->nbformat->notebook~=5.3.0->google.colab) (4.2.0)\n",
            "Requirement already satisfied: zipp>=3.1.0 in /usr/local/lib/python3.7/dist-packages (from importlib-resources>=1.4.0->jsonschema>=2.6->nbformat->notebook~=5.3.0->google.colab) (3.8.0)\n",
            "Requirement already satisfied: webencodings in /usr/local/lib/python3.7/dist-packages (from bleach->nbconvert->notebook~=5.3.0->google.colab) (0.5.1)\n"
          ]
        }
      ]
    },
    {
      "cell_type": "code",
      "execution_count": null,
      "metadata": {
        "id": "hNyNSc2Mn3-C"
      },
      "outputs": [],
      "source": [
        "import numpy as np\n",
        "import matplotlib.pyplot as plt\n",
        "import pandas as pd"
      ]
    },
    {
      "cell_type": "code",
      "source": [
        "# %cd content/drive/MyDrive/\n",
        "%cd /\n",
        "%cd content/drive/MyDrive/content\n",
        "!ls"
      ],
      "metadata": {
        "colab": {
          "base_uri": "https://localhost:8080/"
        },
        "id": "xtoZbMd5Ltcm",
        "outputId": "d5706c50-4963-4ee5-caa8-cb188837dd30"
      },
      "execution_count": null,
      "outputs": [
        {
          "output_type": "stream",
          "name": "stdout",
          "text": [
            "/\n",
            "[Errno 2] No such file or directory: 'content/drive/MyDrive/content'\n",
            "/\n",
            "bin\t datalab  home\t lib64\topt\t    root  srv\t\t     tmp    var\n",
            "boot\t dev\t  lib\t media\tproc\t    run   sys\t\t     tools\n",
            "content  etc\t  lib32  mnt\tpython-apt  sbin  tensorflow-1.15.2  usr\n"
          ]
        }
      ]
    },
    {
      "cell_type": "code",
      "source": [
        "!ls\n",
        "%cd /"
      ],
      "metadata": {
        "colab": {
          "base_uri": "https://localhost:8080/"
        },
        "id": "NXWL1BV8GHDX",
        "outputId": "24cc47b6-0893-44de-c5e6-45ffe69f236b"
      },
      "execution_count": null,
      "outputs": [
        {
          "output_type": "stream",
          "name": "stdout",
          "text": [
            "bin\t datalab  home\t lib64\topt\t    root  srv\t\t     tmp    var\n",
            "boot\t dev\t  lib\t media\tproc\t    run   sys\t\t     tools\n",
            "content  etc\t  lib32  mnt\tpython-apt  sbin  tensorflow-1.15.2  usr\n",
            "/\n"
          ]
        }
      ]
    },
    {
      "cell_type": "code",
      "source": [
        "from google.colab import drive\n",
        "drive.mount('/content/drive')"
      ],
      "metadata": {
        "colab": {
          "base_uri": "https://localhost:8080/"
        },
        "id": "CA9ZsmAYMFcJ",
        "outputId": "fbd2e4be-f01a-4b40-a26c-0c70199ee07a"
      },
      "execution_count": null,
      "outputs": [
        {
          "output_type": "stream",
          "name": "stdout",
          "text": [
            "Mounted at /content/drive\n"
          ]
        }
      ]
    },
    {
      "cell_type": "code",
      "source": [
        "%cd /\n",
        "%cd content/drive/MyDrive\n",
        "!ls"
      ],
      "metadata": {
        "colab": {
          "base_uri": "https://localhost:8080/"
        },
        "id": "lQ3OmdZHGJ9X",
        "outputId": "b6c41f71-6e4a-4c47-ddad-1deae48c1269"
      },
      "execution_count": null,
      "outputs": [
        {
          "output_type": "stream",
          "name": "stdout",
          "text": [
            "/\n",
            "/content/drive/MyDrive\n",
            "'10th June Thursday.csv'\n",
            "'11th June Friday.csv'\n",
            "'12th June Saturday.csv'\n",
            " 12WEEKS.csv\n",
            "'13th June Sunday.csv'\n",
            "'14th June Monday.csv'\n",
            "'15th June Tuesday.csv'\n",
            "'16th June Wednesday.csv'\n",
            "'17th June Thursday.csv'\n",
            "'18th June Friday.csv'\n",
            "'19th June Saturday.csv'\n",
            " 2022.gsheet\n",
            "'20th June Sunday.csv'\n",
            " 23.csv\n",
            " 24.csv\n",
            " 25.csv\n",
            "'2-Cycle 1&2IDHS_Measures_Part A.docx'\n",
            " 4.gdoc\n",
            "'4-July 5__ Draft_Merged Performance Reports._6 Months Data Analyzed.docx'\n",
            "'6th June.csv'\n",
            "'6th June Sunday.csv'\n",
            "'7th June Monday.csv'\n",
            "'8th June Tuesday.csv'\n",
            "'9th June Wednesday.csv'\n",
            "'AAFS Analysis Document.gsheet'\n",
            "'AAFS Analysis.gslides'\n",
            "'AAFS Characteristics.gsheet'\n",
            " AAFS.pptx\n",
            "'AAFS Report.docx'\n",
            "'AAFS Report.gdoc'\n",
            "'Agg Performance.gsheet'\n",
            "'Aggregated Exhibit Data.xlsx'\n",
            "'Alumni .gdoc'\n",
            "'Alumni Sheet.gsheet'\n",
            "'American Arlines_ On-Time Performance Network Analysis (2).twbx'\n",
            "'American Well.gdoc'\n",
            "'American Well.gslides'\n",
            "'American Well.pptx.pdf'\n",
            " AnswerDash.gdoc\n",
            " AnswerDash_ManikaKondaparthy.gdoc\n",
            " Applications.gsheet\n",
            "'april 29.xlsx'\n",
            "'Assignment 4 IDS 572.gdoc'\n",
            "\"Aunt Martha's CD.gsheet\"\n",
            "\"Aunt Martha's.docx\"\n",
            "\"Aunt Martha's.gsheet\"\n",
            " AuthorizationForm.gdoc\n",
            " AuthorizationForm.pdf\n",
            " BAO.gdoc\n",
            "'Barnes & Noble_ManikaKondaparthy.gdoc'\n",
            "'CASS CD.gsheet'\n",
            "'Cass County.docx'\n",
            "'Cass County.gsheet'\n",
            " Castlight.gdoc\n",
            "'Catholic Charities CD.gsheet'\n",
            "'Catholic Charities.docx'\n",
            "'Catholic Charities.gsheet'\n",
            "'CBO Partnership Analysis.gsheet'\n",
            "'CBO Services Analysis.gsheet'\n",
            "'CBO Workshop Analysis.gsheet'\n",
            "'Centro De CD.gsheet'\n",
            "'Centro De.gsheet'\n",
            "'Centro De Informacion Report.docx'\n",
            " CheatSheet_Final.pptx\n",
            " COD\n",
            " Codeee.gdoc\n",
            "'Codes Overview.gdoc'\n",
            " CodesOverview.gsheet\n",
            "'COD IT Data.gdoc'\n",
            "'COD RT Analysis.gslides'\n",
            "'Colab Notebooks'\n",
            "'Community Based Organization (1).xlsx'\n",
            " Consultant.gdoc\n",
            "'Copy of AAFS Characteristics.gsheet'\n",
            "'Copy of Final_ManikaK.gdoc'\n",
            "'Copy of IDS506_CCMG.gslides'\n",
            "'Copy of IDS532_Assignment1.gdoc'\n",
            "'Copy of JT--2-CBO Welcoming Centers_6-Month AAFS.docx'\n",
            "'Copy of KondaparthyManikaSonii_Resume.gdoc'\n",
            "'Copy of UIC Related Queries.gform'\n",
            "'Copy of UIC Related Queries (Responses).gsheet'\n",
            "'Copy of Week1.csv'\n",
            "'Courses (1).gsheet'\n",
            " Courses.gsheet\n",
            "'CoverLetter (1).gdoc'\n",
            " CoverLetter_DofM.gdoc\n",
            "'Cover Letter - GA.gdoc'\n",
            " CoverLetter_GAMarketing.gdoc\n",
            " CoverLetter_GANorc.gdoc\n",
            " CoverLetter_GAPhysics.gdoc\n",
            " CoverLetter.gdoc\n",
            " CoverLetter_GRALibrary.gdoc\n",
            " CoverLetter_LibrarySpecialCollections.gdoc\n",
            "'Cover Letter - Manika Kondaparthy.gdoc'\n",
            " Cyber.gdoc\n",
            " Data\n",
            " Data.gdoc\n",
            "'Disabling Save and Save as in Excel.gdoc'\n",
            " DisclosureForm.gdoc\n",
            " DisclosureForm.pdf\n",
            " DM.gdoc\n",
            "'DM Videos.gdoc'\n",
            " EAD\n",
            "'EAD HW1.gdoc'\n",
            "'EAD HW3.gslides'\n",
            " EAD_HW6.gslides\n",
            " Email.gdoc\n",
            "'EmiratesTicket1 (2).pdf'\n",
            "'Executive Synopsis.gdoc'\n",
            " Expenses.gsheet\n",
            "'EY Prep.gdoc'\n",
            "'Family Focus CD.gsheet'\n",
            "'Family Focus.gsheet'\n",
            "' Family Focus Prototype of SWOT.gslides'\n",
            "'Family Focus Report.docx'\n",
            "'FARGO HEALTH (1).gslides'\n",
            "'Fargo Health Group.gslides'\n",
            " Final_AAFS.pptx\n",
            "'Final Keywords.gdoc'\n",
            " Final_ManikaK.gdoc\n",
            " FinalProject_IDS410.gslides\n",
            "'Flowchart :.gdoc'\n",
            "'Fraud Detection using Medicare Claims.gslides'\n",
            "'Grp Project.twbx'\n",
            " HA.gsheet\n",
            " HANA.gsheet\n",
            "'HANA Report.docx'\n",
            "'Health Analytics.gdoc'\n",
            "'Highlighted Aggregated Data 17 (2).xlsx'\n",
            " HILO.gslides\n",
            "'HINTS C5 Data Analysis_ManikaKondaparthy.gslides'\n",
            "'Hospital Readmissions for Patients with Diabetes.gslides'\n",
            " Housing.gsheet\n",
            " HW2.docx\n",
            "'HW 4 dbms.docx'\n",
            " HW5_EAD_Group2.gslides\n",
            " IDS410_Evening_Kondaparthy_Manika_HW4.gdoc\n",
            " IDS410_HW2_Group13.docx\n",
            " IDS410_HW2_Group13.gdoc\n",
            "'IDS 410 Project.gdoc'\n",
            "'IDS410_ Report_Group13.gdoc'\n",
            " IDS506_CCMG.gslides\n",
            " IDS506_DA.gslides\n",
            "'IDS 506 Project folder'\n",
            "'IDS 506 Project.gsheet'\n",
            "'IDS 515 Final Presentation.gslides'\n",
            " IDS517_HW1_ManikaKondaparthy.gslides\n",
            "'IDS 520 HW1_Manika.gslides'\n",
            "'IDS 520 HW2.gslides'\n",
            " IDS521_Assignment1.gdoc\n",
            " IDS521_DynamoDB.gdoc\n",
            "'IDS 521 - Final Project.gdoc'\n",
            "'IDS 521.gsheet'\n",
            "'IDS 521 (Homework 3) - Group 5.gdoc'\n",
            "'IDS 521 HW2 Group 5.gslides'\n",
            "'IDS 521 - Project.gslides'\n",
            "'IDS532_Assignment2[1367].docx'\n",
            " IDS532_Assignment2.gdoc\n",
            " IDS532_Assignment4.gdoc\n",
            "'IDS 532_Mammogram_Group2.gslides'\n",
            "'INFORMS activity tracker.xlsx'\n",
            " INFORMS_Constitution_2020-2021.docx\n",
            " Internships.gsheet\n",
            " Investments.gsheet\n",
            " jquery.inview.min.js\n",
            "'JT--2-CBO Welcoming Centers_6-Month AAFS.docx'\n",
            "'Keywords 2.gdoc'\n",
            " Keywords.gdoc\n",
            " Keywords.gsheet\n",
            " KondaparthyManika_CV.gdoc\n",
            " KondaparthyManikaSonii_Resume.gdoc\n",
            " labels.txt\n",
            " Languages.gsheet\n",
            "'Le Club Francais Case - IDS 532.gdoc'\n",
            " Letter.gdoc\n",
            " Logs.gsheet\n",
            "'LOS CD.gsheet'\n",
            " LOS.docx\n",
            " LOS.gsheet\n",
            "'LRII CD.gsheet'\n",
            " LRII.gsheet\n",
            "'LRII Report.docx'\n",
            " MAM.docx\n",
            " MAM.gsheet\n",
            " Mammogram_IDS532_Group2.gdoc\n",
            "'Manika_IDS 506_ProstateCancer.gslides'\n",
            " ManikaKondaparthy_CV.gdoc\n",
            " ManikaKondaparthy_DataAnalyst.gdoc\n",
            " ManikaKondaparthy_HW7.gslides\n",
            " ManikaKondaparthy_IDS506.gslides\n",
            "'Miami Planning.gsheet'\n",
            "'MIS Incoming Student Data.gsheet'\n",
            " Monthly-GA-Tuition-Benefit-Net-Calculator-2019.xlsx\n",
            " My_Portfolio\n",
            " NA_AllAirports.twbx\n",
            "'NCC_CaseSolutions (1).docx'\n",
            "'New Template.gslides'\n",
            " OLMC.docx\n",
            " OLMC.gsheet\n",
            " outdatedOutlookClients.xlsx\n",
            "'output_file (1).gsheet'\n",
            " output_file.gsheet\n",
            " outputt\n",
            "'Overall Data.gsheet'\n",
            " Overview_Codes_FF.xlsx\n",
            "'Partnership List.gdoc'\n",
            "'Performace of all CBOs.gslides'\n",
            "'Plan of action.gsheet'\n",
            " PPTT.gslides\n",
            "'Praharsh Scrap Book.gsheet'\n",
            " pres.gdoc\n",
            " print\n",
            "'Project Milestone 1.gdoc'\n",
            "'Project Milestone 2.gdoc'\n",
            "'Project Milestone 3 - MBA 590.gdoc'\n",
            "'Project Milestone 4 - MBA 590.gdoc'\n",
            "'Project Milestone 5 - MBA 590.gdoc'\n",
            "'Project Proposal'\n",
            " Puentes.docx\n",
            " Puentes.gsheet\n",
            "'Query 1-10 hw4.docx'\n",
            "'Recommendations for IWC.gdoc'\n",
            "'References (1).gdoc'\n",
            " References.gdoc\n",
            " Report.pdf\n",
            " Req.gdoc\n",
            " Requirements.gdoc\n",
            "'ResearchPaper Draft.gdoc'\n",
            "'Resume (1).gdoc'\n",
            "'Resume .docx'\n",
            " Resume.gdoc\n",
            " rh_ch_Sunday_CBO_Leader_Survey_-3.14.2021.docx\n",
            "\"rh_Website's content.xlsx\"\n",
            "'SAL (1).docx'\n",
            " SAL.docx\n",
            " SAL.gsheet\n",
            " SCC.docx\n",
            " SCC.gsheet\n",
            " Script.gdoc\n",
            "'SDLC Stage Documentation:.gdoc'\n",
            "'Self evaluation form_Group2.gdoc'\n",
            " SixMonthsPerformanceReports.docx\n",
            " SR2112090308238.pdf\n",
            " Succ.gsheet\n",
            "'Survey Notes.gdoc'\n",
            "'Tableau Assignment HWK 1.gslides'\n",
            "'Tableau Links.gdoc'\n",
            "'TableCodes X_ TemplateFamily Focus (1).docx'\n",
            "'TableCodes X_ TemplateFamily Focus (2).docx'\n",
            "'TableCodes X_ TemplateFamily Focus.docx'\n",
            " Thyroid.gdoc\n",
            "'Time logs - Manika .gsheet'\n",
            "'To-do list.gsheet'\n",
            " topic-model-example\n",
            " topics\n",
            "'Travel Docs'\n",
            "'UIC Related Queries.gform'\n",
            "'UIC Related Queries (Responses).gsheet'\n",
            "'Untitled Diagram (1).drawio'\n",
            "'Untitled Diagram (2).drawio'\n",
            "'Untitled Diagram.drawio'\n",
            "'Untitled Diagram.pdf'\n",
            "'Untitled Diagram.png'\n",
            "'Untitled document (10).gdoc'\n",
            "'Untitled document (11).gdoc'\n",
            "'Untitled document (12).gdoc'\n",
            "'Untitled document (13).gdoc'\n",
            "'Untitled document (14).gdoc'\n",
            "'Untitled document (15).gdoc'\n",
            "'Untitled document (16).gdoc'\n",
            "'Untitled document (17).gdoc'\n",
            "'Untitled document (18).gdoc'\n",
            "'Untitled document (19).gdoc'\n",
            "'Untitled document (1).gdoc'\n",
            "'Untitled document (20).gdoc'\n",
            "'Untitled document (21).gdoc'\n",
            "'Untitled document (22).gdoc'\n",
            "'Untitled document (23).gdoc'\n",
            "'Untitled document (24).gdoc'\n",
            "'Untitled document (25).gdoc'\n",
            "'Untitled document (26).gdoc'\n",
            "'Untitled document (27).gdoc'\n",
            "'Untitled document (28).gdoc'\n",
            "'Untitled document (29).gdoc'\n",
            "'Untitled document (2).gdoc'\n",
            "'Untitled document (30).gdoc'\n",
            "'Untitled document (31).gdoc'\n",
            "'Untitled document (32).gdoc'\n",
            "'Untitled document (33).gdoc'\n",
            "'Untitled document (34).gdoc'\n",
            "'Untitled document (35).gdoc'\n",
            "'Untitled document (36).gdoc'\n",
            "'Untitled document (37).gdoc'\n",
            "'Untitled document (38).gdoc'\n",
            "'Untitled document (39).gdoc'\n",
            "'Untitled document (3).gdoc'\n",
            "'Untitled document (40).gdoc'\n",
            "'Untitled document (41).gdoc'\n",
            "'Untitled document (42).gdoc'\n",
            "'Untitled document (43).gdoc'\n",
            "'Untitled document (44).gdoc'\n",
            "'Untitled document (45).gdoc'\n",
            "'Untitled document (46).gdoc'\n",
            "'Untitled document (47).gdoc'\n",
            "'Untitled document (48).gdoc'\n",
            "'Untitled document (49).gdoc'\n",
            "'Untitled document (4).gdoc'\n",
            "'Untitled document (50).gdoc'\n",
            "'Untitled document (51).gdoc'\n",
            "'Untitled document (52).gdoc'\n",
            "'Untitled document (53).gdoc'\n",
            "'Untitled document (54).gdoc'\n",
            "'Untitled document (55).gdoc'\n",
            "'Untitled document (5).gdoc'\n",
            "'Untitled document (6).gdoc'\n",
            "'Untitled document (7).gdoc'\n",
            "'Untitled document (8).gdoc'\n",
            "'Untitled document (9).gdoc'\n",
            "'Untitled document.gdoc'\n",
            "'Untitled presentation (1).gslides'\n",
            "'Untitled presentation (2).gslides'\n",
            "'Untitled presentation.gslides'\n",
            "'Untitled spreadsheet (10).gsheet'\n",
            "'Untitled spreadsheet (11).gsheet'\n",
            "'Untitled spreadsheet (12).gsheet'\n",
            "'Untitled spreadsheet (1).gsheet'\n",
            "'Untitled spreadsheet (2).gsheet'\n",
            "'Untitled spreadsheet (3).gsheet'\n",
            "'Untitled spreadsheet (4).gsheet'\n",
            "'Untitled spreadsheet (5).gsheet'\n",
            "'Untitled spreadsheet (6).gsheet'\n",
            "'Untitled spreadsheet (7).gsheet'\n",
            "'Untitled spreadsheet (8).gsheet'\n",
            "'Untitled spreadsheet (9).gsheet'\n",
            "'Untitled spreadsheet.gsheet'\n",
            "'Updated Rh_SixMonthsPerformanceReports.docx'\n",
            " VACCINATION.pdf\n",
            " VAI.docx\n",
            " VAI.gsheet\n",
            " Visualisations\n",
            "'Visualisations Methodologies.gdoc'\n",
            " Viz\n",
            " Viz.gsheet\n",
            "'voice wars.gdoc'\n",
            "'Volunteer List 2022.gsheet'\n",
            "'Web Analytics.gdoc'\n",
            "\"Website's content.gsheet\"\n",
            "'WEEKLY DATA'\n",
            "'WEEKLY DATA (1)'\n",
            "'Work links.gdoc'\n",
            "'Workshop Analysis.gsheet'\n",
            " WRD.docx\n",
            " WRD.gsheet\n",
            " Xilin.docx\n",
            " Xilin.gsheet\n"
          ]
        }
      ]
    },
    {
      "cell_type": "code",
      "source": [
        "df = pd.read_csv('12WEEKS.csv')"
      ],
      "metadata": {
        "id": "zp4Fc-D6oJtQ"
      },
      "execution_count": null,
      "outputs": []
    },
    {
      "cell_type": "code",
      "source": [
        "pip install corextopic"
      ],
      "metadata": {
        "colab": {
          "base_uri": "https://localhost:8080/"
        },
        "id": "X2QIIr8RGnGg",
        "outputId": "ca6d96ec-7884-4ea3-cce4-365684244227"
      },
      "execution_count": null,
      "outputs": [
        {
          "output_type": "stream",
          "name": "stdout",
          "text": [
            "Collecting corextopic\n",
            "  Downloading corextopic-1.1-py3-none-any.whl (27 kB)\n",
            "Installing collected packages: corextopic\n",
            "Successfully installed corextopic-1.1\n"
          ]
        }
      ]
    },
    {
      "cell_type": "code",
      "source": [
        "import numpy as np\n",
        "import scipy.sparse as ss\n",
        "import matplotlib.pyplot as plt\n",
        "import pandas as pd\n",
        "\n",
        "import corextopic.corextopic as ct\n",
        "import corextopic.vis_topic as vt # jupyter notebooks will complain matplotlib is being loaded twice\n",
        "\n",
        "from sklearn.feature_extraction.text import CountVectorizer"
      ],
      "metadata": {
        "id": "BbEwGgC_rL3q"
      },
      "execution_count": null,
      "outputs": []
    },
    {
      "cell_type": "code",
      "source": [
        "pip install corextopic"
      ],
      "metadata": {
        "colab": {
          "base_uri": "https://localhost:8080/"
        },
        "id": "kHTu7LGurUfs",
        "outputId": "443ed168-a24c-411e-f16b-b8611435b077"
      },
      "execution_count": null,
      "outputs": [
        {
          "output_type": "stream",
          "name": "stdout",
          "text": [
            "Requirement already satisfied: corextopic in /usr/local/lib/python3.7/dist-packages (1.1)\n"
          ]
        }
      ]
    },
    {
      "cell_type": "code",
      "source": [
        "df.head()"
      ],
      "metadata": {
        "colab": {
          "base_uri": "https://localhost:8080/",
          "height": 354
        },
        "id": "IC9ydXFWriYq",
        "outputId": "3de7d7f3-9dbe-4231-e6b4-2c180ec9c29e"
      },
      "execution_count": null,
      "outputs": [
        {
          "output_type": "execute_result",
          "data": {
            "text/plain": [
              "   Unnamed: 0            id  \\\n",
              "0           0  1.388343e+18   \n",
              "1           1  1.388343e+18   \n",
              "2           2  1.388343e+18   \n",
              "3           3  1.388343e+18   \n",
              "4           4  1.388343e+18   \n",
              "\n",
              "                                                text ind_org  \\\n",
              "0  \"...despite vaccinations on infected persons, ...     ind   \n",
              "1  “The C.D.C. recommends that people skip their ...     ind   \n",
              "2  Indonesia approves Sinopharm COVID-19 vaccine ...     ind   \n",
              "3  @DrLeanaWen I'm so sorry but I am so confused....     ind   \n",
              "4  After Tablighi and Kumbhi Jamaat, here is \"Vac...     ind   \n",
              "\n",
              "                                        clean_tokens  \\\n",
              "0  ['despite', 'vaccination', 'infected', 'person...   \n",
              "1  ['recommends', 'people', 'skip', 'second', 'do...   \n",
              "2  ['indonesia', 'approves', 'sinopharm', 'covid'...   \n",
              "3  ['sorry', 'confused', 'read', 'report', 'ppl',...   \n",
              "4  ['tablighi', 'kumbhi', 'jamaat', 'vaccination'...   \n",
              "\n",
              "                                          clean_text  is_vaccine   Week  \n",
              "0  despite vaccination infected person continue i...         1.0  Week1  \n",
              "1  recommends people skip second dose severe alle...         1.0  Week1  \n",
              "2  indonesia approves sinopharm covid vaccine eme...         1.0  Week1  \n",
              "3  sorry confused read report ppl who ve gotten v...         1.0  Week1  \n",
              "4          tablighi kumbhi jamaat vaccination jamaat         1.0  Week1  "
            ],
            "text/html": [
              "\n",
              "  <div id=\"df-98323eb3-4dc1-4409-8b39-ac403d3eea4b\">\n",
              "    <div class=\"colab-df-container\">\n",
              "      <div>\n",
              "<style scoped>\n",
              "    .dataframe tbody tr th:only-of-type {\n",
              "        vertical-align: middle;\n",
              "    }\n",
              "\n",
              "    .dataframe tbody tr th {\n",
              "        vertical-align: top;\n",
              "    }\n",
              "\n",
              "    .dataframe thead th {\n",
              "        text-align: right;\n",
              "    }\n",
              "</style>\n",
              "<table border=\"1\" class=\"dataframe\">\n",
              "  <thead>\n",
              "    <tr style=\"text-align: right;\">\n",
              "      <th></th>\n",
              "      <th>Unnamed: 0</th>\n",
              "      <th>id</th>\n",
              "      <th>text</th>\n",
              "      <th>ind_org</th>\n",
              "      <th>clean_tokens</th>\n",
              "      <th>clean_text</th>\n",
              "      <th>is_vaccine</th>\n",
              "      <th>Week</th>\n",
              "    </tr>\n",
              "  </thead>\n",
              "  <tbody>\n",
              "    <tr>\n",
              "      <th>0</th>\n",
              "      <td>0</td>\n",
              "      <td>1.388343e+18</td>\n",
              "      <td>\"...despite vaccinations on infected persons, ...</td>\n",
              "      <td>ind</td>\n",
              "      <td>['despite', 'vaccination', 'infected', 'person...</td>\n",
              "      <td>despite vaccination infected person continue i...</td>\n",
              "      <td>1.0</td>\n",
              "      <td>Week1</td>\n",
              "    </tr>\n",
              "    <tr>\n",
              "      <th>1</th>\n",
              "      <td>1</td>\n",
              "      <td>1.388343e+18</td>\n",
              "      <td>“The C.D.C. recommends that people skip their ...</td>\n",
              "      <td>ind</td>\n",
              "      <td>['recommends', 'people', 'skip', 'second', 'do...</td>\n",
              "      <td>recommends people skip second dose severe alle...</td>\n",
              "      <td>1.0</td>\n",
              "      <td>Week1</td>\n",
              "    </tr>\n",
              "    <tr>\n",
              "      <th>2</th>\n",
              "      <td>2</td>\n",
              "      <td>1.388343e+18</td>\n",
              "      <td>Indonesia approves Sinopharm COVID-19 vaccine ...</td>\n",
              "      <td>ind</td>\n",
              "      <td>['indonesia', 'approves', 'sinopharm', 'covid'...</td>\n",
              "      <td>indonesia approves sinopharm covid vaccine eme...</td>\n",
              "      <td>1.0</td>\n",
              "      <td>Week1</td>\n",
              "    </tr>\n",
              "    <tr>\n",
              "      <th>3</th>\n",
              "      <td>3</td>\n",
              "      <td>1.388343e+18</td>\n",
              "      <td>@DrLeanaWen I'm so sorry but I am so confused....</td>\n",
              "      <td>ind</td>\n",
              "      <td>['sorry', 'confused', 'read', 'report', 'ppl',...</td>\n",
              "      <td>sorry confused read report ppl who ve gotten v...</td>\n",
              "      <td>1.0</td>\n",
              "      <td>Week1</td>\n",
              "    </tr>\n",
              "    <tr>\n",
              "      <th>4</th>\n",
              "      <td>4</td>\n",
              "      <td>1.388343e+18</td>\n",
              "      <td>After Tablighi and Kumbhi Jamaat, here is \"Vac...</td>\n",
              "      <td>ind</td>\n",
              "      <td>['tablighi', 'kumbhi', 'jamaat', 'vaccination'...</td>\n",
              "      <td>tablighi kumbhi jamaat vaccination jamaat</td>\n",
              "      <td>1.0</td>\n",
              "      <td>Week1</td>\n",
              "    </tr>\n",
              "  </tbody>\n",
              "</table>\n",
              "</div>\n",
              "      <button class=\"colab-df-convert\" onclick=\"convertToInteractive('df-98323eb3-4dc1-4409-8b39-ac403d3eea4b')\"\n",
              "              title=\"Convert this dataframe to an interactive table.\"\n",
              "              style=\"display:none;\">\n",
              "        \n",
              "  <svg xmlns=\"http://www.w3.org/2000/svg\" height=\"24px\"viewBox=\"0 0 24 24\"\n",
              "       width=\"24px\">\n",
              "    <path d=\"M0 0h24v24H0V0z\" fill=\"none\"/>\n",
              "    <path d=\"M18.56 5.44l.94 2.06.94-2.06 2.06-.94-2.06-.94-.94-2.06-.94 2.06-2.06.94zm-11 1L8.5 8.5l.94-2.06 2.06-.94-2.06-.94L8.5 2.5l-.94 2.06-2.06.94zm10 10l.94 2.06.94-2.06 2.06-.94-2.06-.94-.94-2.06-.94 2.06-2.06.94z\"/><path d=\"M17.41 7.96l-1.37-1.37c-.4-.4-.92-.59-1.43-.59-.52 0-1.04.2-1.43.59L10.3 9.45l-7.72 7.72c-.78.78-.78 2.05 0 2.83L4 21.41c.39.39.9.59 1.41.59.51 0 1.02-.2 1.41-.59l7.78-7.78 2.81-2.81c.8-.78.8-2.07 0-2.86zM5.41 20L4 18.59l7.72-7.72 1.47 1.35L5.41 20z\"/>\n",
              "  </svg>\n",
              "      </button>\n",
              "      \n",
              "  <style>\n",
              "    .colab-df-container {\n",
              "      display:flex;\n",
              "      flex-wrap:wrap;\n",
              "      gap: 12px;\n",
              "    }\n",
              "\n",
              "    .colab-df-convert {\n",
              "      background-color: #E8F0FE;\n",
              "      border: none;\n",
              "      border-radius: 50%;\n",
              "      cursor: pointer;\n",
              "      display: none;\n",
              "      fill: #1967D2;\n",
              "      height: 32px;\n",
              "      padding: 0 0 0 0;\n",
              "      width: 32px;\n",
              "    }\n",
              "\n",
              "    .colab-df-convert:hover {\n",
              "      background-color: #E2EBFA;\n",
              "      box-shadow: 0px 1px 2px rgba(60, 64, 67, 0.3), 0px 1px 3px 1px rgba(60, 64, 67, 0.15);\n",
              "      fill: #174EA6;\n",
              "    }\n",
              "\n",
              "    [theme=dark] .colab-df-convert {\n",
              "      background-color: #3B4455;\n",
              "      fill: #D2E3FC;\n",
              "    }\n",
              "\n",
              "    [theme=dark] .colab-df-convert:hover {\n",
              "      background-color: #434B5C;\n",
              "      box-shadow: 0px 1px 3px 1px rgba(0, 0, 0, 0.15);\n",
              "      filter: drop-shadow(0px 1px 2px rgba(0, 0, 0, 0.3));\n",
              "      fill: #FFFFFF;\n",
              "    }\n",
              "  </style>\n",
              "\n",
              "      <script>\n",
              "        const buttonEl =\n",
              "          document.querySelector('#df-98323eb3-4dc1-4409-8b39-ac403d3eea4b button.colab-df-convert');\n",
              "        buttonEl.style.display =\n",
              "          google.colab.kernel.accessAllowed ? 'block' : 'none';\n",
              "\n",
              "        async function convertToInteractive(key) {\n",
              "          const element = document.querySelector('#df-98323eb3-4dc1-4409-8b39-ac403d3eea4b');\n",
              "          const dataTable =\n",
              "            await google.colab.kernel.invokeFunction('convertToInteractive',\n",
              "                                                     [key], {});\n",
              "          if (!dataTable) return;\n",
              "\n",
              "          const docLinkHtml = 'Like what you see? Visit the ' +\n",
              "            '<a target=\"_blank\" href=https://colab.research.google.com/notebooks/data_table.ipynb>data table notebook</a>'\n",
              "            + ' to learn more about interactive tables.';\n",
              "          element.innerHTML = '';\n",
              "          dataTable['output_type'] = 'display_data';\n",
              "          await google.colab.output.renderOutput(dataTable, element);\n",
              "          const docLink = document.createElement('div');\n",
              "          docLink.innerHTML = docLinkHtml;\n",
              "          element.appendChild(docLink);\n",
              "        }\n",
              "      </script>\n",
              "    </div>\n",
              "  </div>\n",
              "  "
            ]
          },
          "metadata": {},
          "execution_count": 14
        }
      ]
    },
    {
      "cell_type": "code",
      "source": [
        "df['clean_text'] = df['clean_text'].str.replace('[^\\w\\s]','')\n"
      ],
      "metadata": {
        "colab": {
          "base_uri": "https://localhost:8080/"
        },
        "id": "XQAXKYBdrk5o",
        "outputId": "c8d4f8a0-644d-4f16-dd71-1f1c0d7d2556"
      },
      "execution_count": null,
      "outputs": [
        {
          "output_type": "stream",
          "name": "stderr",
          "text": [
            "/usr/local/lib/python3.7/dist-packages/ipykernel_launcher.py:1: FutureWarning: The default value of regex will change from True to False in a future version.\n",
            "  \"\"\"Entry point for launching an IPython kernel.\n"
          ]
        }
      ]
    },
    {
      "cell_type": "code",
      "source": [
        "#Removal of stop words\n",
        "import nltk\n",
        "from nltk.corpus import stopwords\n",
        "nltk.download('stopwords')\n",
        "stop = stopwords.words('english')"
      ],
      "metadata": {
        "colab": {
          "base_uri": "https://localhost:8080/"
        },
        "id": "n5UFvKGRrwCX",
        "outputId": "7936d42c-dc33-44a6-eeed-f028ddff775b"
      },
      "execution_count": null,
      "outputs": [
        {
          "output_type": "stream",
          "name": "stdout",
          "text": [
            "[nltk_data] Downloading package stopwords to /root/nltk_data...\n",
            "[nltk_data]   Unzipping corpora/stopwords.zip.\n"
          ]
        }
      ]
    },
    {
      "cell_type": "code",
      "source": [
        "new = (\"covid19 vaccine\", \"covid19\", \"vaccine\", \"coronavirus\", \"vaccination\", \"covid\", \"corona\"\n",
        "      , \"virus\", \"covid vaccine\", \"covidvaccine\", \"covid19vaccine\", \"im\" ,  \"wont\" ,  \"2021\" ,  \"21\" ,  \"2020\" ,  \"20\" ,  \n",
        "       \"äì\" ,  \"dont\" ,  \"cant\" ,  \"via\" ,  \"already\" ,  \"al\" ,  \"úö\" ,  \"5g\" ,  \"covid_19\" ,  \"rt\" ,  \"ai\" ,  \"donäôt\" ,  \"iäôm\" ,  \"itäôs\" ,   \n",
        "       \"dos\" ,  \"13\" ,  \"14\" ,  \"dy\" ,  \"amplitude\" , \"jampj\", \"pfizer\" ,  \"pfizers\" ,  \"az\" ,  \"astrazeneca\" ,  \"johnson\" ,  \"covax\" ,  \n",
        "       \"moderna\", \"serum\", \"oxford\", \"covaxin\", \"covishield\", \"sinopharm\", \"novavax\", \"zeneca\", \"sputnik\", \"oxfordastrazeneca\", \n",
        "       \"letäôs\", \"covids\", \"pfizerbiontech\", \"doesnäô\", \"seruminstindia\", \"bharatbiotech\", \"biotech\", \"astrazenecas\", \"astrazenecaoxford\", \"covidー19\")\n",
        "stop.extend(new)"
      ],
      "metadata": {
        "id": "stYLFfdoryOm"
      },
      "execution_count": null,
      "outputs": []
    },
    {
      "cell_type": "code",
      "source": [
        "df = df[df['clean_text'].notnull()]"
      ],
      "metadata": {
        "id": "gBkezxw0sDkU"
      },
      "execution_count": null,
      "outputs": []
    },
    {
      "cell_type": "code",
      "source": [
        "df['Tokens']  = df['clean_text'] .apply(lambda x: \" \".join(x for x in x.split()  if x not in stop))\n",
        "df.head()"
      ],
      "metadata": {
        "colab": {
          "base_uri": "https://localhost:8080/",
          "height": 389
        },
        "id": "lDV1WrjTr2UJ",
        "outputId": "4157c37e-d219-43cd-ce2a-830cfac4069b"
      },
      "execution_count": null,
      "outputs": [
        {
          "output_type": "execute_result",
          "data": {
            "text/plain": [
              "   Unnamed: 0            id  \\\n",
              "0           0  1.388343e+18   \n",
              "1           1  1.388343e+18   \n",
              "2           2  1.388343e+18   \n",
              "3           3  1.388343e+18   \n",
              "4           4  1.388343e+18   \n",
              "\n",
              "                                                text ind_org  \\\n",
              "0  \"...despite vaccinations on infected persons, ...     ind   \n",
              "1  “The C.D.C. recommends that people skip their ...     ind   \n",
              "2  Indonesia approves Sinopharm COVID-19 vaccine ...     ind   \n",
              "3  @DrLeanaWen I'm so sorry but I am so confused....     ind   \n",
              "4  After Tablighi and Kumbhi Jamaat, here is \"Vac...     ind   \n",
              "\n",
              "                                        clean_tokens  \\\n",
              "0  ['despite', 'vaccination', 'infected', 'person...   \n",
              "1  ['recommends', 'people', 'skip', 'second', 'do...   \n",
              "2  ['indonesia', 'approves', 'sinopharm', 'covid'...   \n",
              "3  ['sorry', 'confused', 'read', 'report', 'ppl',...   \n",
              "4  ['tablighi', 'kumbhi', 'jamaat', 'vaccination'...   \n",
              "\n",
              "                                          clean_text  is_vaccine   Week  \\\n",
              "0  despite vaccination infected person continue i...         1.0  Week1   \n",
              "1  recommends people skip second dose severe alle...         1.0  Week1   \n",
              "2  indonesia approves sinopharm covid vaccine eme...         1.0  Week1   \n",
              "3  sorry confused read report ppl who ve gotten v...         1.0  Week1   \n",
              "4          tablighi kumbhi jamaat vaccination jamaat         1.0  Week1   \n",
              "\n",
              "                                              Tokens  \n",
              "0      despite infected person continue infect human  \n",
              "1  recommends people skip second dose severe alle...  \n",
              "2           indonesia approves emergency use reuters  \n",
              "3  sorry confused read report ppl gotten still co...  \n",
              "4                      tablighi kumbhi jamaat jamaat  "
            ],
            "text/html": [
              "\n",
              "  <div id=\"df-c7e0e462-0d62-4a2d-91d4-6589daccc325\">\n",
              "    <div class=\"colab-df-container\">\n",
              "      <div>\n",
              "<style scoped>\n",
              "    .dataframe tbody tr th:only-of-type {\n",
              "        vertical-align: middle;\n",
              "    }\n",
              "\n",
              "    .dataframe tbody tr th {\n",
              "        vertical-align: top;\n",
              "    }\n",
              "\n",
              "    .dataframe thead th {\n",
              "        text-align: right;\n",
              "    }\n",
              "</style>\n",
              "<table border=\"1\" class=\"dataframe\">\n",
              "  <thead>\n",
              "    <tr style=\"text-align: right;\">\n",
              "      <th></th>\n",
              "      <th>Unnamed: 0</th>\n",
              "      <th>id</th>\n",
              "      <th>text</th>\n",
              "      <th>ind_org</th>\n",
              "      <th>clean_tokens</th>\n",
              "      <th>clean_text</th>\n",
              "      <th>is_vaccine</th>\n",
              "      <th>Week</th>\n",
              "      <th>Tokens</th>\n",
              "    </tr>\n",
              "  </thead>\n",
              "  <tbody>\n",
              "    <tr>\n",
              "      <th>0</th>\n",
              "      <td>0</td>\n",
              "      <td>1.388343e+18</td>\n",
              "      <td>\"...despite vaccinations on infected persons, ...</td>\n",
              "      <td>ind</td>\n",
              "      <td>['despite', 'vaccination', 'infected', 'person...</td>\n",
              "      <td>despite vaccination infected person continue i...</td>\n",
              "      <td>1.0</td>\n",
              "      <td>Week1</td>\n",
              "      <td>despite infected person continue infect human</td>\n",
              "    </tr>\n",
              "    <tr>\n",
              "      <th>1</th>\n",
              "      <td>1</td>\n",
              "      <td>1.388343e+18</td>\n",
              "      <td>“The C.D.C. recommends that people skip their ...</td>\n",
              "      <td>ind</td>\n",
              "      <td>['recommends', 'people', 'skip', 'second', 'do...</td>\n",
              "      <td>recommends people skip second dose severe alle...</td>\n",
              "      <td>1.0</td>\n",
              "      <td>Week1</td>\n",
              "      <td>recommends people skip second dose severe alle...</td>\n",
              "    </tr>\n",
              "    <tr>\n",
              "      <th>2</th>\n",
              "      <td>2</td>\n",
              "      <td>1.388343e+18</td>\n",
              "      <td>Indonesia approves Sinopharm COVID-19 vaccine ...</td>\n",
              "      <td>ind</td>\n",
              "      <td>['indonesia', 'approves', 'sinopharm', 'covid'...</td>\n",
              "      <td>indonesia approves sinopharm covid vaccine eme...</td>\n",
              "      <td>1.0</td>\n",
              "      <td>Week1</td>\n",
              "      <td>indonesia approves emergency use reuters</td>\n",
              "    </tr>\n",
              "    <tr>\n",
              "      <th>3</th>\n",
              "      <td>3</td>\n",
              "      <td>1.388343e+18</td>\n",
              "      <td>@DrLeanaWen I'm so sorry but I am so confused....</td>\n",
              "      <td>ind</td>\n",
              "      <td>['sorry', 'confused', 'read', 'report', 'ppl',...</td>\n",
              "      <td>sorry confused read report ppl who ve gotten v...</td>\n",
              "      <td>1.0</td>\n",
              "      <td>Week1</td>\n",
              "      <td>sorry confused read report ppl gotten still co...</td>\n",
              "    </tr>\n",
              "    <tr>\n",
              "      <th>4</th>\n",
              "      <td>4</td>\n",
              "      <td>1.388343e+18</td>\n",
              "      <td>After Tablighi and Kumbhi Jamaat, here is \"Vac...</td>\n",
              "      <td>ind</td>\n",
              "      <td>['tablighi', 'kumbhi', 'jamaat', 'vaccination'...</td>\n",
              "      <td>tablighi kumbhi jamaat vaccination jamaat</td>\n",
              "      <td>1.0</td>\n",
              "      <td>Week1</td>\n",
              "      <td>tablighi kumbhi jamaat jamaat</td>\n",
              "    </tr>\n",
              "  </tbody>\n",
              "</table>\n",
              "</div>\n",
              "      <button class=\"colab-df-convert\" onclick=\"convertToInteractive('df-c7e0e462-0d62-4a2d-91d4-6589daccc325')\"\n",
              "              title=\"Convert this dataframe to an interactive table.\"\n",
              "              style=\"display:none;\">\n",
              "        \n",
              "  <svg xmlns=\"http://www.w3.org/2000/svg\" height=\"24px\"viewBox=\"0 0 24 24\"\n",
              "       width=\"24px\">\n",
              "    <path d=\"M0 0h24v24H0V0z\" fill=\"none\"/>\n",
              "    <path d=\"M18.56 5.44l.94 2.06.94-2.06 2.06-.94-2.06-.94-.94-2.06-.94 2.06-2.06.94zm-11 1L8.5 8.5l.94-2.06 2.06-.94-2.06-.94L8.5 2.5l-.94 2.06-2.06.94zm10 10l.94 2.06.94-2.06 2.06-.94-2.06-.94-.94-2.06-.94 2.06-2.06.94z\"/><path d=\"M17.41 7.96l-1.37-1.37c-.4-.4-.92-.59-1.43-.59-.52 0-1.04.2-1.43.59L10.3 9.45l-7.72 7.72c-.78.78-.78 2.05 0 2.83L4 21.41c.39.39.9.59 1.41.59.51 0 1.02-.2 1.41-.59l7.78-7.78 2.81-2.81c.8-.78.8-2.07 0-2.86zM5.41 20L4 18.59l7.72-7.72 1.47 1.35L5.41 20z\"/>\n",
              "  </svg>\n",
              "      </button>\n",
              "      \n",
              "  <style>\n",
              "    .colab-df-container {\n",
              "      display:flex;\n",
              "      flex-wrap:wrap;\n",
              "      gap: 12px;\n",
              "    }\n",
              "\n",
              "    .colab-df-convert {\n",
              "      background-color: #E8F0FE;\n",
              "      border: none;\n",
              "      border-radius: 50%;\n",
              "      cursor: pointer;\n",
              "      display: none;\n",
              "      fill: #1967D2;\n",
              "      height: 32px;\n",
              "      padding: 0 0 0 0;\n",
              "      width: 32px;\n",
              "    }\n",
              "\n",
              "    .colab-df-convert:hover {\n",
              "      background-color: #E2EBFA;\n",
              "      box-shadow: 0px 1px 2px rgba(60, 64, 67, 0.3), 0px 1px 3px 1px rgba(60, 64, 67, 0.15);\n",
              "      fill: #174EA6;\n",
              "    }\n",
              "\n",
              "    [theme=dark] .colab-df-convert {\n",
              "      background-color: #3B4455;\n",
              "      fill: #D2E3FC;\n",
              "    }\n",
              "\n",
              "    [theme=dark] .colab-df-convert:hover {\n",
              "      background-color: #434B5C;\n",
              "      box-shadow: 0px 1px 3px 1px rgba(0, 0, 0, 0.15);\n",
              "      filter: drop-shadow(0px 1px 2px rgba(0, 0, 0, 0.3));\n",
              "      fill: #FFFFFF;\n",
              "    }\n",
              "  </style>\n",
              "\n",
              "      <script>\n",
              "        const buttonEl =\n",
              "          document.querySelector('#df-c7e0e462-0d62-4a2d-91d4-6589daccc325 button.colab-df-convert');\n",
              "        buttonEl.style.display =\n",
              "          google.colab.kernel.accessAllowed ? 'block' : 'none';\n",
              "\n",
              "        async function convertToInteractive(key) {\n",
              "          const element = document.querySelector('#df-c7e0e462-0d62-4a2d-91d4-6589daccc325');\n",
              "          const dataTable =\n",
              "            await google.colab.kernel.invokeFunction('convertToInteractive',\n",
              "                                                     [key], {});\n",
              "          if (!dataTable) return;\n",
              "\n",
              "          const docLinkHtml = 'Like what you see? Visit the ' +\n",
              "            '<a target=\"_blank\" href=https://colab.research.google.com/notebooks/data_table.ipynb>data table notebook</a>'\n",
              "            + ' to learn more about interactive tables.';\n",
              "          element.innerHTML = '';\n",
              "          dataTable['output_type'] = 'display_data';\n",
              "          await google.colab.output.renderOutput(dataTable, element);\n",
              "          const docLink = document.createElement('div');\n",
              "          docLink.innerHTML = docLinkHtml;\n",
              "          element.appendChild(docLink);\n",
              "        }\n",
              "      </script>\n",
              "    </div>\n",
              "  </div>\n",
              "  "
            ]
          },
          "metadata": {},
          "execution_count": 19
        }
      ]
    },
    {
      "cell_type": "code",
      "source": [
        "# Transform data into a sparse matrix\n",
        "vectorizer = CountVectorizer(stop_words='english', max_features=None, binary=True)\n",
        "doc_word = vectorizer.fit_transform(df.Tokens)\n",
        "doc_word = ss.csr_matrix(doc_word)\n",
        "\n",
        "doc_word.shape # n_docs x m_words"
      ],
      "metadata": {
        "colab": {
          "base_uri": "https://localhost:8080/"
        },
        "id": "3D9PgnVDsHGZ",
        "outputId": "447a01a1-cfc9-44b5-c423-7279012f23ab"
      },
      "execution_count": null,
      "outputs": [
        {
          "output_type": "execute_result",
          "data": {
            "text/plain": [
              "(2191907, 469450)"
            ]
          },
          "metadata": {},
          "execution_count": 20
        }
      ]
    },
    {
      "cell_type": "code",
      "source": [
        "doc_word"
      ],
      "metadata": {
        "colab": {
          "base_uri": "https://localhost:8080/"
        },
        "id": "4liBFF64sRL-",
        "outputId": "5b82ec2d-01af-4af4-8d09-62019a9edc3e"
      },
      "execution_count": null,
      "outputs": [
        {
          "output_type": "execute_result",
          "data": {
            "text/plain": [
              "<2191907x469450 sparse matrix of type '<class 'numpy.int64'>'\n",
              "\twith 26364830 stored elements in Compressed Sparse Row format>"
            ]
          },
          "metadata": {},
          "execution_count": 21
        }
      ]
    },
    {
      "cell_type": "code",
      "source": [
        "# Get words that label the columns (needed to extract readable topics and make anchoring easier)\n",
        "words = list(np.asarray(vectorizer.get_feature_names()))"
      ],
      "metadata": {
        "colab": {
          "base_uri": "https://localhost:8080/"
        },
        "id": "YCR8GLnxsS2g",
        "outputId": "6bfe9bff-9426-421a-d6ff-43c974503249"
      },
      "execution_count": null,
      "outputs": [
        {
          "output_type": "stream",
          "name": "stderr",
          "text": [
            "/usr/local/lib/python3.7/dist-packages/sklearn/utils/deprecation.py:87: FutureWarning: Function get_feature_names is deprecated; get_feature_names is deprecated in 1.0 and will be removed in 1.2. Please use get_feature_names_out instead.\n",
            "  warnings.warn(msg, category=FutureWarning)\n"
          ]
        }
      ]
    },
    {
      "cell_type": "code",
      "source": [
        "anchor_words = [ \n",
        "#vaccine eligibility\n",
        "['65', 'department', 'eligible', 'hospitalized', '75', 'local', 'resident', 'senior', '80', '95', 'old', 'elderly',\n",
        "  '21', 'age', 'eligibility', 'least', 'adult', 'minimum','min',  'limit'],\n",
        "  #vaccine approval\n",
        " ['approved', 'approval', 'clinical', 'trial', 'approves', 'rollout', 'speed', 'plan', 'release', 'distribution', \n",
        "  'holding', 'million', 'billion', 'official', 'delivered', 'production', 'supply', 'reported', 'petition', 'rallied',\n",
        "  'effective', 'study', 'impeachment', 'experiment', 'export', 'testing', 'phase', 'phases'],\n",
        "  #pandemic\n",
        "['variant', 'strains', 'mutants', 'transmission', 'zone', 'red', 'green', 'wuhan', 'containment', 'spread', \n",
        " 'pandemic', 'epidemic', 'un', 'who', 'curve', 'herd immunity', 'mask', '6', 'feet', 'social', 'distancing', \n",
        " 'maintain', 'isolation', 'quarantine', '7', 'shield', 'ppe', 'oxygen', 'ventilator', 'emergency', 'capacity', \n",
        " 'occupancy', 'confirmed', 'global', 'worldwide', 'hydroxychloroquine', 'sars', 'cov', 'endemic', 'outbreak', \n",
        " 'cluster', 'lockdown', 'sanitized', 'sanitizer', 'prevent', 'catch', 'spreading', 'catching', 'passing', 'avoid', \n",
        " 'crowd', 'gathering', 'hand', 'mutation', 'safety', 'new', 'n-95', 'n95', 'test', 'guideline', 'reopening',\n",
        " 'cdc', 'high', 'continued', 'mandatory', 'rule', 'infection', 'spike', 'income', 'mortality', 'antibody', 'help',\n",
        " 'due', 'need', 'wave', 'mandate', 'hope', 'family', 'long', 'life', 'let', 'go', 'indiafightscorona', 'covidindia',\n",
        " 'staysafe', 'coronaviruspandemic', 'case', 'death', 'infection', 'total', 'number', 'reported', 'daily', 'rate', 'last',\n",
        " 'record', 'per', 'hour', 'result', 'pcr',  'tested', 'test'],\n",
        " #geography, politics\n",
        " ['geography', 'usa' ,'uk', 'india', 'eu', 'brexit', 'scotland', 'france', 'canada', 'china', 'africa', 'somalia', \n",
        "  'brazil', 'america', 'britain', 'israel', 'germany', 'denmark', 'nigerian', 'portugese', 'mexican', 'israeli', \n",
        "  'indian', 'taiwan', 'malaysia', 'cuba', 'canadian', 'mexico', 'latino', 'vatican', 'british', 'ministry', \n",
        "  'president', 'congress', 'republic', 'prime', 'minister', 'potus', 'administrator', 'administration', \n",
        "  'governor', 'cnn', 'government', 'bbc', 'prince' , 'news', 'scam', 'misinformation', 'information', 'text', \n",
        "  'info', 'facebook', 'fake', 'data', 'detail', 'link', 'page', 'instagram', 'medium', 'media', 'tv', 'video', \n",
        "  'audio',  'youtube', 'ontario', 'state', 'administered', 'group', 'pm', 'facing', 'russia', 'national', 'country',\n",
        "  'world', 'minister', 'host', 'tokyo', 'government', 'say', 'said', 'africa', 'japan', 'restriction', 'south', 'question',\n",
        "  'pin', 'biden',  'via', 'miami', 'columbia', 'city', 'park', 'temple', 'mill', 'township', 'north', 'hill', 'delhi', 'pradesh',\n",
        "  'govt', 'indian', 'florida', 'trump', 'right'],\n",
        "  #people for vaccine\n",
        " ['getvaccinated', 'readytovaccinate', 'goandgetvaccinate', 'vaccinated', 'vaccineswork', 'vaccinessavelives', \n",
        "  'get', 'antibody', 'saves', 'ready', 'go', 'goandget', 'work', 'save', 'saves'],\n",
        "  # people against vaccine\n",
        "  ['antivaccine', 'vaccinekills', 'novaccination', 'stopvaccines', 'nomandatoryvaccine', 'forced vaccination', \n",
        "   'justsayno', 'nogoodvaccine', 'novaccineforme', 'boycottvaccine', 'sideeffects', 'saynotovaccines', 'chip', \n",
        "  'danger', 'micro', 'risky', 'stop', 'warning', 'warn', 'anti', 'kills', 'no', 'mandatory', 'sayno', 'nogood', \n",
        "  'novaccine', 'boycott', 'lie', 'ccp', 'fake', 'conspiracy'],\n",
        "#clinical research\n",
        "  ['patent', 'pharmaceutical', 'production', 'big', 'pharma', 'health', 'biotech', 'technology',\n",
        "   'data', 'phase', 'new', 'drive', 'scientist', 'clinical', 'central', 'research', 'trial'],\n",
        "   #vaccination status\n",
        "  ['yesterday', 'morning', 'today', 'feb', 'jan', 'march', 'january', 'february', 'week', 'day', 'tomorrow', 'year', 'hour', \n",
        "  'ago', 'monday', 'tuesday', 'wednesday', 'thursday', 'friday', 'saturday', 'sunday', 'weekend', 'weekday', \n",
        "  'last', 'got', 'gotten', 'received', 'dose-1', 'dose-2', 'dose 1', 'one down', 'dose 2', 'first', 'second', \n",
        "  'finally'],\n",
        "#healthcare workers\n",
        " ['healthcare', 'workers', 'doctor', 'dr', 'nurse', 'employees', 'student', 'frontline', 'essential',  'worker', \n",
        "  'volunteer', 'teacher', 'staff', 'patient', 'care', 'school', 'offered', 'nursing', 'working', 'people', \n",
        "  'medical', 'plant', 'home', 'military', 'team', 'employee', 'employer', 'scientist', 'physician', 'family',  \n",
        "  'member', 'providers', 'healthcare', 'hospital', 'treatment','oxygen', 'medicine', 'pvt', 'hosp', 'pmcp'],\n",
        "  #sideeffects\n",
        " ['symptom', 'fever', 'chills', 'body', 'pain', 'paralysis', 'death', 'fatigue', 'headache', 'nausea', \n",
        "  'vomiting', 'muscle', 'sore', 'swollen', 'blood', 'clot', 'sleepy', 'sickness', 'malaise', 'clots', 'tired',\n",
        "  'tiredness', 'dizziness', 'numbness', 'cardiac', 'arrest', 'chest', 'cough', 'allergies', 'side effects',  \n",
        "  'vaccinesideeffects', 'jab', 'positive', 'shot', 'adverse', 'infection', 'symptoms', 'ill', \n",
        "  'depression', 'died', 'reaction', 'asthma', 'pressure', 'illness', 'allergy', 'pregnant', 'allergic', 'fertility', \n",
        "  'anaphylaxis', 'asthmatic', 'inject', 'injection', 'happy', 'good', 'excited', 'grateful', 'worry', 'scared', \n",
        "  'worried', 'relief', 'vulnerable', 'ache']\n",
        "\n",
        "\n",
        "\n",
        "]\n",
        "\n",
        "\n",
        "\n",
        "\n",
        "anchored_topic_model = ct.Corex(n_hidden=10, seed=2)\n",
        "anchored_topic_model.fit(doc_word, words=words, anchors=anchor_words, anchor_strength=2);"
      ],
      "metadata": {
        "colab": {
          "base_uri": "https://localhost:8080/"
        },
        "id": "1hm4gjrusYLs",
        "outputId": "524db4b0-2b29-4bc0-f721-d45d86a67109"
      },
      "execution_count": null,
      "outputs": [
        {
          "output_type": "stream",
          "name": "stdout",
          "text": [
            "WARNING: Anchor word not in word column labels provided to CorEx: 65\n",
            "WARNING: Anchor word not in word column labels provided to CorEx: 75\n",
            "WARNING: Anchor word not in word column labels provided to CorEx: 80\n",
            "WARNING: Anchor word not in word column labels provided to CorEx: 95\n",
            "WARNING: Anchor word not in word column labels provided to CorEx: 21\n",
            "WARNING: Anchor word not in word column labels provided to CorEx: least\n",
            "WARNING: Anchor word not in word column labels provided to CorEx: phases\n",
            "WARNING: Anchor word not in word column labels provided to CorEx: strains\n",
            "WARNING: Anchor word not in word column labels provided to CorEx: mutants\n",
            "WARNING: Anchor word not in word column labels provided to CorEx: un\n",
            "WARNING: Anchor word not in word column labels provided to CorEx: who\n",
            "WARNING: Anchor word not in word column labels provided to CorEx: herd immunity\n",
            "WARNING: Anchor word not in word column labels provided to CorEx: 6\n",
            "WARNING: Anchor word not in word column labels provided to CorEx: feet\n",
            "WARNING: Anchor word not in word column labels provided to CorEx: 7\n",
            "WARNING: Anchor word not in word column labels provided to CorEx: n-95\n",
            "WARNING: Anchor word not in word column labels provided to CorEx: n95\n",
            "WARNING: Anchor word not in word column labels provided to CorEx: due\n",
            "WARNING: Anchor word not in word column labels provided to CorEx: go\n",
            "WARNING: Anchor word not in word column labels provided to CorEx: last\n",
            "WARNING: Anchor word not in word column labels provided to CorEx: per\n",
            "WARNING: Anchor word not in word column labels provided to CorEx: portugese\n",
            "WARNING: Anchor word not in word column labels provided to CorEx: detail\n",
            "WARNING: Anchor word not in word column labels provided to CorEx: media\n",
            "WARNING: Anchor word not in word column labels provided to CorEx: via\n",
            "WARNING: Anchor word not in word column labels provided to CorEx: mill\n",
            "WARNING: Anchor word not in word column labels provided to CorEx: goandgetvaccinate\n",
            "WARNING: Anchor word not in word column labels provided to CorEx: get\n",
            "WARNING: Anchor word not in word column labels provided to CorEx: saves\n",
            "WARNING: Anchor word not in word column labels provided to CorEx: go\n",
            "WARNING: Anchor word not in word column labels provided to CorEx: goandget\n",
            "WARNING: Anchor word not in word column labels provided to CorEx: saves\n",
            "WARNING: Anchor word not in word column labels provided to CorEx: stopvaccines\n",
            "WARNING: Anchor word not in word column labels provided to CorEx: forced vaccination\n",
            "WARNING: Anchor word not in word column labels provided to CorEx: nogoodvaccine\n",
            "WARNING: Anchor word not in word column labels provided to CorEx: kills\n",
            "WARNING: Anchor word not in word column labels provided to CorEx: no\n",
            "WARNING: Anchor word not in word column labels provided to CorEx: biotech\n",
            "WARNING: Anchor word not in word column labels provided to CorEx: last\n",
            "WARNING: Anchor word not in word column labels provided to CorEx: dose-1\n",
            "WARNING: Anchor word not in word column labels provided to CorEx: dose-2\n",
            "WARNING: Anchor word not in word column labels provided to CorEx: dose 1\n",
            "WARNING: Anchor word not in word column labels provided to CorEx: one down\n",
            "WARNING: Anchor word not in word column labels provided to CorEx: dose 2\n",
            "WARNING: Anchor word not in word column labels provided to CorEx: first\n",
            "WARNING: Anchor word not in word column labels provided to CorEx: workers\n",
            "WARNING: Anchor word not in word column labels provided to CorEx: employees\n",
            "WARNING: Anchor word not in word column labels provided to CorEx: providers\n",
            "WARNING: Anchor word not in word column labels provided to CorEx: chills\n",
            "WARNING: Anchor word not in word column labels provided to CorEx: clots\n",
            "WARNING: Anchor word not in word column labels provided to CorEx: allergies\n",
            "WARNING: Anchor word not in word column labels provided to CorEx: side effects\n",
            "WARNING: Anchor word not in word column labels provided to CorEx: symptoms\n"
          ]
        }
      ]
    },
    {
      "cell_type": "code",
      "source": [
        "for n in range(len(anchor_words)):\n",
        "    topic_words,_,_ = zip(*anchored_topic_model.get_topics(topic=n))\n",
        "    print('{}: '.format(n) + ', '.join(topic_words))"
      ],
      "metadata": {
        "colab": {
          "base_uri": "https://localhost:8080/"
        },
        "id": "-VfBuBzfsdYj",
        "outputId": "f0166c62-07e3-45a6-8fc4-a7b3d7acbf36"
      },
      "execution_count": null,
      "outputs": [
        {
          "output_type": "stream",
          "name": "stdout",
          "text": [
            "0: age, min, limit, cowin, date, pune, vaccinepune, code, dose, available\n",
            "1: million, study, effective, plan, reported, trial, official, supply, testing, rollout\n",
            "2: infection, new, case, death, variant, mask, rate, number, test, spread\n",
            "3: india, country, news, state, world, government, said, uk, south, pin\n",
            "4: vaccinated, cv, appointment, sign, near, work, fully, pa, like, antibody\n",
            "5: la, en, que, el, contra, se, para, da, por, del\n",
            "6: new, health, data, trial, research, big, patent, drive, scientist, pharma\n",
            "7: day, year, today, week, got, second, received, hour, yesterday, ago\n",
            "8: hospital, patient, medicine, dr, doctor, care, medical, school, family, worker\n",
            "9: infection, death, good, positive, died, blood, symptom, body, injection, reaction\n"
          ]
        }
      ]
    },
    {
      "cell_type": "code",
      "source": [
        "vt.vis_rep(anchored_topic_model, column_label=words)\n"
      ],
      "metadata": {
        "colab": {
          "base_uri": "https://localhost:8080/"
        },
        "id": "l0acVe1WshlU",
        "outputId": "30ccb7fb-5e24-4bbd-d1a5-a140eb6a6852"
      },
      "execution_count": null,
      "outputs": [
        {
          "output_type": "stream",
          "name": "stdout",
          "text": [
            "Print topics in text file\n"
          ]
        }
      ]
    },
    {
      "cell_type": "code",
      "source": [
        "anchored_topic_model.get_topics(topic=1, n_words=10)"
      ],
      "metadata": {
        "id": "6hlWZhpmzgq1",
        "outputId": "bfbd6fde-5fcd-4e62-a48b-74daf54af01d",
        "colab": {
          "base_uri": "https://localhost:8080/"
        }
      },
      "execution_count": null,
      "outputs": [
        {
          "output_type": "execute_result",
          "data": {
            "text/plain": [
              "[('million', 0.13130585304765527, 1.0),\n",
              " ('study', 0.08285155102908574, 1.0),\n",
              " ('effective', 0.06316664612496772, 1.0),\n",
              " ('plan', 0.051389801962844366, 1.0),\n",
              " ('reported', 0.04481121349700584, 1.0),\n",
              " ('trial', 0.044469056456956584, 1.0),\n",
              " ('official', 0.043137048974718074, 1.0),\n",
              " ('supply', 0.03883484252394239, 1.0),\n",
              " ('testing', 0.03823579965960313, 1.0),\n",
              " ('rollout', 0.028666239646583096, 1.0)]"
            ]
          },
          "metadata": {},
          "execution_count": 36
        }
      ]
    },
    {
      "cell_type": "code",
      "source": [
        "from corextopic import vis_topic as vt\n",
        "vt.vis_rep(anchored_topic_model, column_label=words, prefix='finaloutput')"
      ],
      "metadata": {
        "colab": {
          "base_uri": "https://localhost:8080/"
        },
        "id": "STXBExpQry6J",
        "outputId": "71a09683-8055-4ab6-dcb4-776ea7c3b797"
      },
      "execution_count": null,
      "outputs": [
        {
          "output_type": "stream",
          "name": "stdout",
          "text": [
            "Print topics in text file\n"
          ]
        }
      ]
    },
    {
      "cell_type": "code",
      "source": [
        "tx"
      ],
      "metadata": {
        "id": "0r3RYBMWqpqs"
      },
      "execution_count": null,
      "outputs": []
    }
  ]
}
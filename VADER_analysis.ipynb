{
  "cells": [
    {
      "cell_type": "code",
      "execution_count": 1,
      "metadata": {
        "id": "qOqvVbx4fd_X"
      },
      "outputs": [],
      "source": [
        "import json\n",
        "import pandas as pd\n",
        "import numpy as np\n",
        "from google.colab import drive\n",
        "from scipy.stats import mode\n"
      ]
    },
    {
      "cell_type": "code",
      "execution_count": 9,
      "metadata": {
        "colab": {
          "base_uri": "https://localhost:8080/"
        },
        "id": "EYnJlPvzfgcg",
        "outputId": "fbfc7021-5429-410e-9287-d06e4e64b017"
      },
      "outputs": [
        {
          "output_type": "stream",
          "name": "stdout",
          "text": [
            "Mounted at /content/drive\n"
          ]
        }
      ],
      "source": [
        "drive.mount('/content/drive')"
      ]
    },
    {
      "cell_type": "code",
      "execution_count": 10,
      "metadata": {
        "colab": {
          "base_uri": "https://localhost:8080/"
        },
        "id": "tCa_DJ5Jfgja",
        "outputId": "0cf151e9-1d95-4385-9b03-8137ce1fae3a"
      },
      "outputs": [
        {
          "output_type": "stream",
          "name": "stdout",
          "text": [
            "bin\t datalab  home\t lib64\topt\t    root  srv\t\t     tmp    var\n",
            "boot\t dev\t  lib\t media\tproc\t    run   sys\t\t     tools\n",
            "content  etc\t  lib32  mnt\tpython-apt  sbin  tensorflow-1.15.2  usr\n",
            "/\n"
          ]
        }
      ],
      "source": [
        "!ls\n",
        "%cd /"
      ]
    },
    {
      "cell_type": "code",
      "execution_count": 30,
      "metadata": {
        "colab": {
          "base_uri": "https://localhost:8080/"
        },
        "id": "beNfQx2rfgnY",
        "outputId": "5e2893cd-13bb-4855-e425-0e9022e75f07"
      },
      "outputs": [
        {
          "output_type": "stream",
          "name": "stdout",
          "text": [
            "/\n",
            "/content/drive/MyDrive\n",
            " 1may_cleaned.csv  'Copy of 12_WEEKS_new.csv'\t IDS561_Spark\n",
            " 1may.csv\t    COVID_country_differences\t'IDS 572 : Assignment 1.gdoc'\n",
            " Ancestry.gdoc\t    Gro\t\t\t\t'Text Analytics Proposal.gdoc'\n",
            " Big_Data_Project  'Healthcare Analytics.gdoc'\t VADER_12weeks.csv\n",
            "'Colab Notebooks'  'IDS 561 - Project.gdoc'\t Weekly_Data\n"
          ]
        }
      ],
      "source": [
        "%cd /\n",
        "%cd content/drive/MyDrive\n",
        "!ls"
      ]
    },
    {
      "cell_type": "code",
      "execution_count": 14,
      "metadata": {
        "id": "GPK32VCGfgpr"
      },
      "outputs": [],
      "source": [
        "df = pd.read_csv('Copy of 12_WEEKS_new.csv')"
      ]
    },
    {
      "cell_type": "code",
      "execution_count": 4,
      "metadata": {
        "colab": {
          "base_uri": "https://localhost:8080/"
        },
        "id": "uNc-d0XDfgsL",
        "outputId": "e4af5380-619c-43ee-e2c7-3bf4861d5b8d"
      },
      "outputs": [
        {
          "output_type": "stream",
          "name": "stdout",
          "text": [
            "[nltk_data] Downloading package vader_lexicon to /root/nltk_data...\n"
          ]
        },
        {
          "output_type": "execute_result",
          "data": {
            "text/plain": [
              "True"
            ]
          },
          "metadata": {},
          "execution_count": 4
        }
      ],
      "source": [
        "import nltk\n",
        "nltk.download('vader_lexicon')"
      ]
    },
    {
      "cell_type": "code",
      "execution_count": 2,
      "metadata": {
        "colab": {
          "base_uri": "https://localhost:8080/"
        },
        "id": "Gkz_khmXf9_X",
        "outputId": "a1434a4e-c560-464c-a3dd-4ab4eec85371"
      },
      "outputs": [
        {
          "output_type": "stream",
          "name": "stdout",
          "text": [
            "Collecting twython\n",
            "  Downloading twython-3.9.1-py3-none-any.whl (33 kB)\n",
            "Requirement already satisfied: requests>=2.1.0 in /usr/local/lib/python3.7/dist-packages (from twython) (2.23.0)\n",
            "Requirement already satisfied: requests-oauthlib>=0.4.0 in /usr/local/lib/python3.7/dist-packages (from twython) (1.3.1)\n",
            "Requirement already satisfied: urllib3!=1.25.0,!=1.25.1,<1.26,>=1.21.1 in /usr/local/lib/python3.7/dist-packages (from requests>=2.1.0->twython) (1.24.3)\n",
            "Requirement already satisfied: chardet<4,>=3.0.2 in /usr/local/lib/python3.7/dist-packages (from requests>=2.1.0->twython) (3.0.4)\n",
            "Requirement already satisfied: idna<3,>=2.5 in /usr/local/lib/python3.7/dist-packages (from requests>=2.1.0->twython) (2.10)\n",
            "Requirement already satisfied: certifi>=2017.4.17 in /usr/local/lib/python3.7/dist-packages (from requests>=2.1.0->twython) (2021.10.8)\n",
            "Requirement already satisfied: oauthlib>=3.0.0 in /usr/local/lib/python3.7/dist-packages (from requests-oauthlib>=0.4.0->twython) (3.2.0)\n",
            "Installing collected packages: twython\n",
            "Successfully installed twython-3.9.1\n"
          ]
        }
      ],
      "source": [
        "!pip install twython"
      ]
    },
    {
      "cell_type": "code",
      "execution_count": 5,
      "metadata": {
        "id": "3-6h1NHWf-Ci"
      },
      "outputs": [],
      "source": [
        "from nltk.sentiment.vader import SentimentIntensityAnalyzer\n",
        "\n",
        "sid = SentimentIntensityAnalyzer()"
      ]
    },
    {
      "cell_type": "code",
      "execution_count": 15,
      "metadata": {
        "id": "_ZguY5P1f-GB"
      },
      "outputs": [],
      "source": [
        "def sentiment_dict(x):\n",
        "  return sid.polarity_scores(x)\n",
        "\n",
        "def sentiment(x):\n",
        "  return max(x, key=x.get)\n",
        "\n",
        "def ind_sentiment(x, polarity):\n",
        "  return x[polarity]"
      ]
    },
    {
      "cell_type": "code",
      "execution_count": 16,
      "metadata": {
        "colab": {
          "base_uri": "https://localhost:8080/",
          "height": 354
        },
        "id": "H6Rn7fe01len",
        "outputId": "d0798031-f36f-41f3-e72d-df44444d90dc"
      },
      "outputs": [
        {
          "output_type": "execute_result",
          "data": {
            "text/plain": [
              "   Unnamed: 0            id  \\\n",
              "0           0  1.388343e+18   \n",
              "1           1  1.388343e+18   \n",
              "2           2  1.388343e+18   \n",
              "3           3  1.388343e+18   \n",
              "4           4  1.388343e+18   \n",
              "\n",
              "                                                text ind_org  \\\n",
              "0  \"...despite vaccinations on infected persons, ...     ind   \n",
              "1  “The C.D.C. recommends that people skip their ...     ind   \n",
              "2  Indonesia approves Sinopharm COVID-19 vaccine ...     ind   \n",
              "3  @DrLeanaWen I'm so sorry but I am so confused....     ind   \n",
              "4  After Tablighi and Kumbhi Jamaat, here is \"Vac...     ind   \n",
              "\n",
              "                                        clean_tokens  \\\n",
              "0  ['despite', 'vaccination', 'infected', 'person...   \n",
              "1  ['recommends', 'people', 'skip', 'second', 'do...   \n",
              "2  ['indonesia', 'approves', 'sinopharm', 'covid'...   \n",
              "3  ['sorry', 'confused', 'read', 'report', 'ppl',...   \n",
              "4  ['tablighi', 'kumbhi', 'jamaat', 'vaccination'...   \n",
              "\n",
              "                                          clean_text  is_vaccine   Week  \n",
              "0  despite vaccination infected person continue i...         1.0  Week1  \n",
              "1  recommends people skip second dose severe alle...         1.0  Week1  \n",
              "2  indonesia approves sinopharm covid vaccine eme...         1.0  Week1  \n",
              "3  sorry confused read report ppl who ve gotten v...         1.0  Week1  \n",
              "4          tablighi kumbhi jamaat vaccination jamaat         1.0  Week1  "
            ],
            "text/html": [
              "\n",
              "  <div id=\"df-eabe5479-b28c-4add-b22f-3d9c1f6a5648\">\n",
              "    <div class=\"colab-df-container\">\n",
              "      <div>\n",
              "<style scoped>\n",
              "    .dataframe tbody tr th:only-of-type {\n",
              "        vertical-align: middle;\n",
              "    }\n",
              "\n",
              "    .dataframe tbody tr th {\n",
              "        vertical-align: top;\n",
              "    }\n",
              "\n",
              "    .dataframe thead th {\n",
              "        text-align: right;\n",
              "    }\n",
              "</style>\n",
              "<table border=\"1\" class=\"dataframe\">\n",
              "  <thead>\n",
              "    <tr style=\"text-align: right;\">\n",
              "      <th></th>\n",
              "      <th>Unnamed: 0</th>\n",
              "      <th>id</th>\n",
              "      <th>text</th>\n",
              "      <th>ind_org</th>\n",
              "      <th>clean_tokens</th>\n",
              "      <th>clean_text</th>\n",
              "      <th>is_vaccine</th>\n",
              "      <th>Week</th>\n",
              "    </tr>\n",
              "  </thead>\n",
              "  <tbody>\n",
              "    <tr>\n",
              "      <th>0</th>\n",
              "      <td>0</td>\n",
              "      <td>1.388343e+18</td>\n",
              "      <td>\"...despite vaccinations on infected persons, ...</td>\n",
              "      <td>ind</td>\n",
              "      <td>['despite', 'vaccination', 'infected', 'person...</td>\n",
              "      <td>despite vaccination infected person continue i...</td>\n",
              "      <td>1.0</td>\n",
              "      <td>Week1</td>\n",
              "    </tr>\n",
              "    <tr>\n",
              "      <th>1</th>\n",
              "      <td>1</td>\n",
              "      <td>1.388343e+18</td>\n",
              "      <td>“The C.D.C. recommends that people skip their ...</td>\n",
              "      <td>ind</td>\n",
              "      <td>['recommends', 'people', 'skip', 'second', 'do...</td>\n",
              "      <td>recommends people skip second dose severe alle...</td>\n",
              "      <td>1.0</td>\n",
              "      <td>Week1</td>\n",
              "    </tr>\n",
              "    <tr>\n",
              "      <th>2</th>\n",
              "      <td>2</td>\n",
              "      <td>1.388343e+18</td>\n",
              "      <td>Indonesia approves Sinopharm COVID-19 vaccine ...</td>\n",
              "      <td>ind</td>\n",
              "      <td>['indonesia', 'approves', 'sinopharm', 'covid'...</td>\n",
              "      <td>indonesia approves sinopharm covid vaccine eme...</td>\n",
              "      <td>1.0</td>\n",
              "      <td>Week1</td>\n",
              "    </tr>\n",
              "    <tr>\n",
              "      <th>3</th>\n",
              "      <td>3</td>\n",
              "      <td>1.388343e+18</td>\n",
              "      <td>@DrLeanaWen I'm so sorry but I am so confused....</td>\n",
              "      <td>ind</td>\n",
              "      <td>['sorry', 'confused', 'read', 'report', 'ppl',...</td>\n",
              "      <td>sorry confused read report ppl who ve gotten v...</td>\n",
              "      <td>1.0</td>\n",
              "      <td>Week1</td>\n",
              "    </tr>\n",
              "    <tr>\n",
              "      <th>4</th>\n",
              "      <td>4</td>\n",
              "      <td>1.388343e+18</td>\n",
              "      <td>After Tablighi and Kumbhi Jamaat, here is \"Vac...</td>\n",
              "      <td>ind</td>\n",
              "      <td>['tablighi', 'kumbhi', 'jamaat', 'vaccination'...</td>\n",
              "      <td>tablighi kumbhi jamaat vaccination jamaat</td>\n",
              "      <td>1.0</td>\n",
              "      <td>Week1</td>\n",
              "    </tr>\n",
              "  </tbody>\n",
              "</table>\n",
              "</div>\n",
              "      <button class=\"colab-df-convert\" onclick=\"convertToInteractive('df-eabe5479-b28c-4add-b22f-3d9c1f6a5648')\"\n",
              "              title=\"Convert this dataframe to an interactive table.\"\n",
              "              style=\"display:none;\">\n",
              "        \n",
              "  <svg xmlns=\"http://www.w3.org/2000/svg\" height=\"24px\"viewBox=\"0 0 24 24\"\n",
              "       width=\"24px\">\n",
              "    <path d=\"M0 0h24v24H0V0z\" fill=\"none\"/>\n",
              "    <path d=\"M18.56 5.44l.94 2.06.94-2.06 2.06-.94-2.06-.94-.94-2.06-.94 2.06-2.06.94zm-11 1L8.5 8.5l.94-2.06 2.06-.94-2.06-.94L8.5 2.5l-.94 2.06-2.06.94zm10 10l.94 2.06.94-2.06 2.06-.94-2.06-.94-.94-2.06-.94 2.06-2.06.94z\"/><path d=\"M17.41 7.96l-1.37-1.37c-.4-.4-.92-.59-1.43-.59-.52 0-1.04.2-1.43.59L10.3 9.45l-7.72 7.72c-.78.78-.78 2.05 0 2.83L4 21.41c.39.39.9.59 1.41.59.51 0 1.02-.2 1.41-.59l7.78-7.78 2.81-2.81c.8-.78.8-2.07 0-2.86zM5.41 20L4 18.59l7.72-7.72 1.47 1.35L5.41 20z\"/>\n",
              "  </svg>\n",
              "      </button>\n",
              "      \n",
              "  <style>\n",
              "    .colab-df-container {\n",
              "      display:flex;\n",
              "      flex-wrap:wrap;\n",
              "      gap: 12px;\n",
              "    }\n",
              "\n",
              "    .colab-df-convert {\n",
              "      background-color: #E8F0FE;\n",
              "      border: none;\n",
              "      border-radius: 50%;\n",
              "      cursor: pointer;\n",
              "      display: none;\n",
              "      fill: #1967D2;\n",
              "      height: 32px;\n",
              "      padding: 0 0 0 0;\n",
              "      width: 32px;\n",
              "    }\n",
              "\n",
              "    .colab-df-convert:hover {\n",
              "      background-color: #E2EBFA;\n",
              "      box-shadow: 0px 1px 2px rgba(60, 64, 67, 0.3), 0px 1px 3px 1px rgba(60, 64, 67, 0.15);\n",
              "      fill: #174EA6;\n",
              "    }\n",
              "\n",
              "    [theme=dark] .colab-df-convert {\n",
              "      background-color: #3B4455;\n",
              "      fill: #D2E3FC;\n",
              "    }\n",
              "\n",
              "    [theme=dark] .colab-df-convert:hover {\n",
              "      background-color: #434B5C;\n",
              "      box-shadow: 0px 1px 3px 1px rgba(0, 0, 0, 0.15);\n",
              "      filter: drop-shadow(0px 1px 2px rgba(0, 0, 0, 0.3));\n",
              "      fill: #FFFFFF;\n",
              "    }\n",
              "  </style>\n",
              "\n",
              "      <script>\n",
              "        const buttonEl =\n",
              "          document.querySelector('#df-eabe5479-b28c-4add-b22f-3d9c1f6a5648 button.colab-df-convert');\n",
              "        buttonEl.style.display =\n",
              "          google.colab.kernel.accessAllowed ? 'block' : 'none';\n",
              "\n",
              "        async function convertToInteractive(key) {\n",
              "          const element = document.querySelector('#df-eabe5479-b28c-4add-b22f-3d9c1f6a5648');\n",
              "          const dataTable =\n",
              "            await google.colab.kernel.invokeFunction('convertToInteractive',\n",
              "                                                     [key], {});\n",
              "          if (!dataTable) return;\n",
              "\n",
              "          const docLinkHtml = 'Like what you see? Visit the ' +\n",
              "            '<a target=\"_blank\" href=https://colab.research.google.com/notebooks/data_table.ipynb>data table notebook</a>'\n",
              "            + ' to learn more about interactive tables.';\n",
              "          element.innerHTML = '';\n",
              "          dataTable['output_type'] = 'display_data';\n",
              "          await google.colab.output.renderOutput(dataTable, element);\n",
              "          const docLink = document.createElement('div');\n",
              "          docLink.innerHTML = docLinkHtml;\n",
              "          element.appendChild(docLink);\n",
              "        }\n",
              "      </script>\n",
              "    </div>\n",
              "  </div>\n",
              "  "
            ]
          },
          "metadata": {},
          "execution_count": 16
        }
      ],
      "source": [
        "df.head()"
      ]
    },
    {
      "cell_type": "code",
      "execution_count": null,
      "metadata": {
        "colab": {
          "base_uri": "https://localhost:8080/"
        },
        "id": "P7na2H6PYmJk",
        "outputId": "267ea4dd-488a-4f66-bd8d-005a600f87bb"
      },
      "outputs": [
        {
          "output_type": "execute_result",
          "data": {
            "text/plain": [
              "Week9     243255\n",
              "Week8     237394\n",
              "Week1     217683\n",
              "Week2     207437\n",
              "Week3     204888\n",
              "Week7     201678\n",
              "Week5     171995\n",
              "Week4     170333\n",
              "Week11    160370\n",
              "Week12    134488\n",
              "Week6     127947\n",
              "Week10    114439\n",
              "Name: Week, dtype: int64"
            ]
          },
          "metadata": {},
          "execution_count": 9
        }
      ],
      "source": [
        "df.Week.value_counts()"
      ]
    },
    {
      "cell_type": "code",
      "execution_count": null,
      "metadata": {
        "colab": {
          "base_uri": "https://localhost:8080/",
          "height": 394
        },
        "id": "jLt7ZXhiZPH0",
        "outputId": "5f9e3d55-26fd-4573-d8e2-ad7134b5f0e4"
      },
      "outputs": [
        {
          "output_type": "display_data",
          "data": {
            "text/plain": [
              "<Figure size 864x432 with 1 Axes>"
            ],
            "image/png": "[encoded data removed]"
          },
          "metadata": {
            "needs_background": "light"
          }
        }
      ],
      "source": [
        "import matplotlib.pyplot as plt\n",
        "import seaborn as sns\n",
        "plt.figure(figsize=(12,6))\n",
        "sns.set_theme(style=\"darkgrid\")\n",
        "ax = sns.countplot(x=\"Week\", data=df,order=['Week1','Week2','Week3','Week4','Week5','Week6','Week7','Week8','Week9','Week10','Week11','Week12'])"
      ]
    },
    {
      "cell_type": "code",
      "execution_count": 24,
      "metadata": {
        "id": "gFGxPiZRgDAY"
      },
      "outputs": [],
      "source": [
        "df['sentiment_dict'] = df['clean_text'].apply(sentiment_dict)\n",
        "# df['sentiment'] = df['sentiment_dict'].apply(sentiment)\n",
        "df['pos'] = df['sentiment_dict'].apply(ind_sentiment, args=(['pos']))\n",
        "df['neg'] = df['sentiment_dict'].apply(ind_sentiment, args=(['neg']))\n",
        "df['neu'] = df['sentiment_dict'].apply(ind_sentiment, args=(['neu']))\n",
        "df['compound'] = df['sentiment_dict'].apply(ind_sentiment, args=(['compound']))\n",
        "\n",
        "# s.apply(func, convert_dtype=True, args=())"
      ]
    },
    {
      "cell_type": "code",
      "execution_count": 28,
      "metadata": {
        "id": "mjHbwAVYgDD4"
      },
      "outputs": [],
      "source": [
        "df['is_positive'] = [1 if x>=0.05 else 0 for x in df['compound']]\n",
        "df['is_negative'] = [1 if x<=-0.05 else 0 for x in df['compound']]"
      ]
    },
    {
      "cell_type": "code",
      "execution_count": 29,
      "metadata": {
        "id": "tS8ePSaVEmMv"
      },
      "outputs": [],
      "source": [
        "df.to_csv(\"VADER_12weeks.csv\")"
      ]
    },
    {
      "cell_type": "code",
      "source": [
        "# df['compound']"
      ],
      "metadata": {
        "colab": {
          "base_uri": "https://localhost:8080/"
        },
        "id": "8lnaJuTdovHi",
        "outputId": "a5fc0df4-a778-4a08-b426-fa8d09e0fa94"
      },
      "execution_count": 27,
      "outputs": [
        {
          "output_type": "execute_result",
          "data": {
            "text/plain": [
              "0          0.3875\n",
              "1         -0.6249\n",
              "2          0.0258\n",
              "3          0.7845\n",
              "4          0.0000\n",
              "            ...  \n",
              "2191902    0.5574\n",
              "2191903    0.0000\n",
              "2191904    0.2732\n",
              "2191905   -0.6705\n",
              "2191906   -0.0139\n",
              "Name: compound, Length: 2191907, dtype: float64"
            ]
          },
          "metadata": {},
          "execution_count": 27
        }
      ]
    },
    {
      "cell_type": "code",
      "source": [
        ""
      ],
      "metadata": {
        "id": "rRXk8i_JpWyB"
      },
      "execution_count": null,
      "outputs": []
    }
  ],
  "metadata": {
    "colab": {
      "collapsed_sections": [],
      "name": "VADER_final.ipynb",
      "provenance": []
    },
    "kernelspec": {
      "display_name": "Python 3",
      "name": "python3"
    },
    "language_info": {
      "name": "python"
    }
  },
  "nbformat": 4,
  "nbformat_minor": 0
}
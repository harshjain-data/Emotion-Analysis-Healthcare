{
 "cells": [
  {
   "cell_type": "code",
   "execution_count": 1,
   "id": "cd924f35",
   "metadata": {},
   "outputs": [],
   "source": [
    "import pandas as pd"
   ]
  },
  {
   "cell_type": "code",
   "execution_count": 123,
   "id": "adfddd6f",
   "metadata": {},
   "outputs": [],
   "source": [
    "df=pd.read_csv(\"C:/Users/Harsh Jain/Desktop/en_tweets/2jun.csv\")"
   ]
  },
  {
   "cell_type": "code",
   "execution_count": 124,
   "id": "298a56e9",
   "metadata": {},
   "outputs": [
    {
     "data": {
      "text/plain": [
       "(109682, 36)"
      ]
     },
     "execution_count": 124,
     "metadata": {},
     "output_type": "execute_result"
    }
   ],
   "source": [
    "df.shape"
   ]
  },
  {
   "cell_type": "code",
   "execution_count": 125,
   "id": "98889814",
   "metadata": {},
   "outputs": [],
   "source": [
    "df = df[df['user_location'].notna()]\n",
    "#df1 = df.dropna()"
   ]
  },
  {
   "cell_type": "code",
   "execution_count": 126,
   "id": "f0bf89c0",
   "metadata": {},
   "outputs": [],
   "source": [
    "df['user_location'] = df['user_location'].astype('string') "
   ]
  },
  {
   "cell_type": "code",
   "execution_count": 127,
   "id": "740bf69c",
   "metadata": {},
   "outputs": [
    {
     "data": {
      "text/plain": [
       "(81531, 36)"
      ]
     },
     "execution_count": 127,
     "metadata": {},
     "output_type": "execute_result"
    }
   ],
   "source": [
    "df.shape"
   ]
  },
  {
   "cell_type": "code",
   "execution_count": 49,
   "id": "7319e0f8",
   "metadata": {},
   "outputs": [],
   "source": [
    "#ff = df[df.user_location.str.contains(r'^[a-zA-Z, ]-+$')] \n",
    "#ff['user_location'].head()\n",
    "#ff.head()"
   ]
  },
  {
   "cell_type": "markdown",
   "id": "1af64b21",
   "metadata": {},
   "source": [
    "# Start from here"
   ]
  },
  {
   "cell_type": "code",
   "execution_count": 128,
   "id": "60122570",
   "metadata": {},
   "outputs": [],
   "source": [
    "#pip install geopy\n",
    "from geopy.geocoders import Nominatim"
   ]
  },
  {
   "cell_type": "code",
   "execution_count": 129,
   "id": "390586b1",
   "metadata": {},
   "outputs": [],
   "source": [
    "\n",
    "def country_extract(location):\n",
    "    #address we need to geocode\n",
    "    loc = location\n",
    "\n",
    "    #making an instance of Nominatim class\n",
    "    geolocator = Nominatim(user_agent=\"my_request\")\n",
    "\n",
    "    #applying geocode method to get the location\n",
    "    try:\n",
    "        location = geolocator.geocode(loc)\n",
    "    except:\n",
    "        return None\n",
    "    if(location == None):\n",
    "        return None\n",
    "        \n",
    "    else:\n",
    "       # Latitude & Longitude input\n",
    "        Latitude = str(location.latitude)\n",
    "        Longitude = str(location.longitude)\n",
    "        \n",
    "    #printing address and coordinates\n",
    "    #print(location.address)\n",
    "    #print((location.latitude, location.longitude))\n",
    "    try:\n",
    "        newloc = geolocator.reverse(Latitude+\",\"+Longitude)\n",
    "    except:\n",
    "        return None\n",
    "   \n",
    "    #Display\n",
    "    #print(newloc)\n",
    "    if(newloc == None):\n",
    "        return None\n",
    "        \n",
    "    else:\n",
    "        address = newloc.raw['address']\n",
    "        #print(address)\n",
    "        country = address.get('country', '')\n",
    "        return country\n",
    "    "
   ]
  },
  {
   "cell_type": "code",
   "execution_count": null,
   "id": "46e65ae1",
   "metadata": {},
   "outputs": [],
   "source": [
    "list=[]\n",
    "\n",
    "for i in df['user_location']:\n",
    "    new = country_extract(i)\n",
    "    #print(new)\n",
    "    list.append(new)\n",
    "    \n",
    "#print(list)"
   ]
  },
  {
   "cell_type": "code",
   "execution_count": 110,
   "id": "5157a93d",
   "metadata": {},
   "outputs": [],
   "source": [
    "df2=df\n",
    "country=pd.DataFrame(list, columns =['country'])\n",
    "#dfnew=pd.concat([df, df2], axis=1, ignore_index=False)\n",
    "df2['country'] = country"
   ]
  },
  {
   "cell_type": "code",
   "execution_count": 111,
   "id": "27bfbdf5",
   "metadata": {},
   "outputs": [
    {
     "data": {
      "text/html": [
       "<div>\n",
       "<style scoped>\n",
       "    .dataframe tbody tr th:only-of-type {\n",
       "        vertical-align: middle;\n",
       "    }\n",
       "\n",
       "    .dataframe tbody tr th {\n",
       "        vertical-align: top;\n",
       "    }\n",
       "\n",
       "    .dataframe thead th {\n",
       "        text-align: right;\n",
       "    }\n",
       "</style>\n",
       "<table border=\"1\" class=\"dataframe\">\n",
       "  <thead>\n",
       "    <tr style=\"text-align: right;\">\n",
       "      <th></th>\n",
       "      <th>Unnamed: 0</th>\n",
       "      <th>coordinates</th>\n",
       "      <th>created_at</th>\n",
       "      <th>hashtags</th>\n",
       "      <th>media</th>\n",
       "      <th>urls</th>\n",
       "      <th>favorite_count</th>\n",
       "      <th>id</th>\n",
       "      <th>in_reply_to_screen_name</th>\n",
       "      <th>in_reply_to_status_id</th>\n",
       "      <th>...</th>\n",
       "      <th>user_friends_count</th>\n",
       "      <th>user_listed_count</th>\n",
       "      <th>user_location</th>\n",
       "      <th>user_name</th>\n",
       "      <th>user_screen_name</th>\n",
       "      <th>user_statuses_count</th>\n",
       "      <th>user_time_zone</th>\n",
       "      <th>user_urls</th>\n",
       "      <th>user_verified</th>\n",
       "      <th>country</th>\n",
       "    </tr>\n",
       "  </thead>\n",
       "  <tbody>\n",
       "    <tr>\n",
       "      <th>0</th>\n",
       "      <td>0</td>\n",
       "      <td>NaN</td>\n",
       "      <td>Tue Jun 01 04:02:14 +0000 2021</td>\n",
       "      <td>NaN</td>\n",
       "      <td>NaN</td>\n",
       "      <td>https://omny.fm/shows/on-point-with-alex-piers...</td>\n",
       "      <td>0</td>\n",
       "      <td>1399577002412105731</td>\n",
       "      <td>NaN</td>\n",
       "      <td>NaN</td>\n",
       "      <td>...</td>\n",
       "      <td>214</td>\n",
       "      <td>3</td>\n",
       "      <td>Edmonton</td>\n",
       "      <td>chris thompson</td>\n",
       "      <td>Christhompson30</td>\n",
       "      <td>14</td>\n",
       "      <td>NaN</td>\n",
       "      <td>NaN</td>\n",
       "      <td>False</td>\n",
       "      <td>Canada</td>\n",
       "    </tr>\n",
       "    <tr>\n",
       "      <th>1</th>\n",
       "      <td>2</td>\n",
       "      <td>NaN</td>\n",
       "      <td>Tue Jun 01 04:02:15 +0000 2021</td>\n",
       "      <td>IndiaFightsCorona</td>\n",
       "      <td>NaN</td>\n",
       "      <td>NaN</td>\n",
       "      <td>0</td>\n",
       "      <td>1399577004521844737</td>\n",
       "      <td>NaN</td>\n",
       "      <td>NaN</td>\n",
       "      <td>...</td>\n",
       "      <td>29</td>\n",
       "      <td>0</td>\n",
       "      <td>Shirdi, India</td>\n",
       "      <td>शिर्डी के वासी</td>\n",
       "      <td>Namo4Ramrajya</td>\n",
       "      <td>2830</td>\n",
       "      <td>NaN</td>\n",
       "      <td>NaN</td>\n",
       "      <td>False</td>\n",
       "      <td>India</td>\n",
       "    </tr>\n",
       "    <tr>\n",
       "      <th>3</th>\n",
       "      <td>5</td>\n",
       "      <td>NaN</td>\n",
       "      <td>Tue Jun 01 04:02:25 +0000 2021</td>\n",
       "      <td>COVID19 Coronavirus</td>\n",
       "      <td>https://twitter.com/IndiaToday/status/13995748...</td>\n",
       "      <td>https://bit.ly/34xjTpJ</td>\n",
       "      <td>0</td>\n",
       "      <td>1399577046444122113</td>\n",
       "      <td>NaN</td>\n",
       "      <td>NaN</td>\n",
       "      <td>...</td>\n",
       "      <td>2729</td>\n",
       "      <td>0</td>\n",
       "      <td>Chamoli, India</td>\n",
       "      <td>Kuldeep kathait</td>\n",
       "      <td>Kuldeepkathai14</td>\n",
       "      <td>27308</td>\n",
       "      <td>NaN</td>\n",
       "      <td>NaN</td>\n",
       "      <td>False</td>\n",
       "      <td>India</td>\n",
       "    </tr>\n",
       "    <tr>\n",
       "      <th>4</th>\n",
       "      <td>6</td>\n",
       "      <td>NaN</td>\n",
       "      <td>Tue Jun 01 04:02:23 +0000 2021</td>\n",
       "      <td>coronavirus COVID19Pandemic</td>\n",
       "      <td>NaN</td>\n",
       "      <td>https://www.prokerala.com/news/articles/a11649...</td>\n",
       "      <td>0</td>\n",
       "      <td>1399577040026697731</td>\n",
       "      <td>NaN</td>\n",
       "      <td>NaN</td>\n",
       "      <td>...</td>\n",
       "      <td>18</td>\n",
       "      <td>4</td>\n",
       "      <td>Kerala, IN</td>\n",
       "      <td>Prokerala</td>\n",
       "      <td>Prokerala</td>\n",
       "      <td>3320</td>\n",
       "      <td>NaN</td>\n",
       "      <td>https://www.prokerala.com</td>\n",
       "      <td>False</td>\n",
       "      <td>United Kingdom</td>\n",
       "    </tr>\n",
       "    <tr>\n",
       "      <th>5</th>\n",
       "      <td>11</td>\n",
       "      <td>NaN</td>\n",
       "      <td>Tue Jun 01 04:02:49 +0000 2021</td>\n",
       "      <td>NaN</td>\n",
       "      <td>NaN</td>\n",
       "      <td>https://on.ft.com/3c2J08f</td>\n",
       "      <td>0</td>\n",
       "      <td>1399577147606437892</td>\n",
       "      <td>NaN</td>\n",
       "      <td>NaN</td>\n",
       "      <td>...</td>\n",
       "      <td>9886</td>\n",
       "      <td>41</td>\n",
       "      <td>London, England</td>\n",
       "      <td>FT for Schools</td>\n",
       "      <td>ft4s</td>\n",
       "      <td>51219</td>\n",
       "      <td>NaN</td>\n",
       "      <td>http://www.ft.com/schools</td>\n",
       "      <td>True</td>\n",
       "      <td>India</td>\n",
       "    </tr>\n",
       "  </tbody>\n",
       "</table>\n",
       "<p>5 rows × 37 columns</p>\n",
       "</div>"
      ],
      "text/plain": [
       "   Unnamed: 0 coordinates                      created_at  \\\n",
       "0           0         NaN  Tue Jun 01 04:02:14 +0000 2021   \n",
       "1           2         NaN  Tue Jun 01 04:02:15 +0000 2021   \n",
       "3           5         NaN  Tue Jun 01 04:02:25 +0000 2021   \n",
       "4           6         NaN  Tue Jun 01 04:02:23 +0000 2021   \n",
       "5          11         NaN  Tue Jun 01 04:02:49 +0000 2021   \n",
       "\n",
       "                      hashtags  \\\n",
       "0                          NaN   \n",
       "1            IndiaFightsCorona   \n",
       "3          COVID19 Coronavirus   \n",
       "4  coronavirus COVID19Pandemic   \n",
       "5                          NaN   \n",
       "\n",
       "                                               media  \\\n",
       "0                                                NaN   \n",
       "1                                                NaN   \n",
       "3  https://twitter.com/IndiaToday/status/13995748...   \n",
       "4                                                NaN   \n",
       "5                                                NaN   \n",
       "\n",
       "                                                urls  favorite_count  \\\n",
       "0  https://omny.fm/shows/on-point-with-alex-piers...               0   \n",
       "1                                                NaN               0   \n",
       "3                             https://bit.ly/34xjTpJ               0   \n",
       "4  https://www.prokerala.com/news/articles/a11649...               0   \n",
       "5                          https://on.ft.com/3c2J08f               0   \n",
       "\n",
       "                    id in_reply_to_screen_name  in_reply_to_status_id  ...  \\\n",
       "0  1399577002412105731                     NaN                    NaN  ...   \n",
       "1  1399577004521844737                     NaN                    NaN  ...   \n",
       "3  1399577046444122113                     NaN                    NaN  ...   \n",
       "4  1399577040026697731                     NaN                    NaN  ...   \n",
       "5  1399577147606437892                     NaN                    NaN  ...   \n",
       "\n",
       "   user_friends_count user_listed_count    user_location        user_name  \\\n",
       "0                 214                 3         Edmonton   chris thompson   \n",
       "1                  29                 0    Shirdi, India   शिर्डी के वासी   \n",
       "3                2729                 0   Chamoli, India  Kuldeep kathait   \n",
       "4                  18                 4       Kerala, IN        Prokerala   \n",
       "5                9886                41  London, England   FT for Schools   \n",
       "\n",
       "   user_screen_name  user_statuses_count  user_time_zone  \\\n",
       "0   Christhompson30                   14             NaN   \n",
       "1     Namo4Ramrajya                 2830             NaN   \n",
       "3   Kuldeepkathai14                27308             NaN   \n",
       "4         Prokerala                 3320             NaN   \n",
       "5              ft4s                51219             NaN   \n",
       "\n",
       "                   user_urls user_verified         country  \n",
       "0                        NaN         False          Canada  \n",
       "1                        NaN         False           India  \n",
       "3                        NaN         False           India  \n",
       "4  https://www.prokerala.com         False  United Kingdom  \n",
       "5  http://www.ft.com/schools          True           India  \n",
       "\n",
       "[5 rows x 37 columns]"
      ]
     },
     "execution_count": 111,
     "metadata": {},
     "output_type": "execute_result"
    }
   ],
   "source": [
    "df2.head()"
   ]
  },
  {
   "cell_type": "code",
   "execution_count": 112,
   "id": "4fd371a9",
   "metadata": {},
   "outputs": [
    {
     "data": {
      "text/plain": [
       "India                             3077\n",
       "United States                     1173\n",
       "United Kingdom                    1029\n",
       "Australia                          501\n",
       "Canada                             229\n",
       "Malaysia                           183\n",
       "South Africa                       173\n",
       "پاکستان                            130\n",
       "Philippines                        119\n",
       "Nigeria                             94\n",
       "Éire / Ireland                      88\n",
       "Deutschland                         88\n",
       "Kenya                               81\n",
       "الإمارات العربية المتحدة            78\n",
       "中国                                  77\n",
       "ශ්‍රී ලංකාව இலங்கை                  76\n",
       "日本                                  76\n",
       "France                              72\n",
       "ประเทศไทย                           72\n",
       "Pilipinas / Philippines             72\n",
       "Singapore                           67\n",
       "Uganda                              65\n",
       "België / Belgique / Belgien         54\n",
       "New Zealand / Aotearoa              37\n",
       "Nepal                               35\n",
       "España                              35\n",
       "Nederland                           34\n",
       "Việt Nam                            33\n",
       "Italia                              32\n",
       "Schweiz/Suisse/Svizzera/Svizra      30\n",
       "Name: country, dtype: int64"
      ]
     },
     "execution_count": 112,
     "metadata": {},
     "output_type": "execute_result"
    }
   ],
   "source": [
    "df2['country'].value_counts().head(30)"
   ]
  },
  {
   "cell_type": "code",
   "execution_count": 114,
   "id": "839f41c9",
   "metadata": {},
   "outputs": [
    {
     "name": "stdout",
     "output_type": "stream",
     "text": [
      "(13413, 37)\n",
      "(13413, 1)\n",
      "(13413, 37)\n"
     ]
    }
   ],
   "source": [
    "print(df.shape)\n",
    "print(country.shape)\n",
    "print(df2.shape)"
   ]
  },
  {
   "cell_type": "code",
   "execution_count": 115,
   "id": "90186598",
   "metadata": {},
   "outputs": [],
   "source": [
    "#US, India, Brazil, France, Germany, UK\n",
    "df2=df2.loc[df2['country'].isin(['United States','India','Brasil','France','Deutschland','United Kingdom'])]"
   ]
  },
  {
   "cell_type": "code",
   "execution_count": 116,
   "id": "079fcf47",
   "metadata": {},
   "outputs": [
    {
     "data": {
      "text/plain": [
       "(5457, 37)"
      ]
     },
     "execution_count": 116,
     "metadata": {},
     "output_type": "execute_result"
    }
   ],
   "source": [
    "df2.shape"
   ]
  },
  {
   "cell_type": "code",
   "execution_count": 117,
   "id": "f01920e7",
   "metadata": {},
   "outputs": [
    {
     "data": {
      "text/plain": [
       "India             3077\n",
       "United States     1173\n",
       "United Kingdom    1029\n",
       "Deutschland         88\n",
       "France              72\n",
       "Brasil              18\n",
       "Name: country, dtype: int64"
      ]
     },
     "execution_count": 117,
     "metadata": {},
     "output_type": "execute_result"
    }
   ],
   "source": [
    "df2['country'].value_counts()"
   ]
  },
  {
   "cell_type": "code",
   "execution_count": 120,
   "id": "b4b3762b",
   "metadata": {},
   "outputs": [
    {
     "name": "stderr",
     "output_type": "stream",
     "text": [
      "C:\\Users\\Harsh Jain\\AppData\\Local\\Temp/ipykernel_31016/4027476299.py:1: SettingWithCopyWarning: \n",
      "A value is trying to be set on a copy of a slice from a DataFrame.\n",
      "Try using .loc[row_indexer,col_indexer] = value instead\n",
      "\n",
      "See the caveats in the documentation: https://pandas.pydata.org/pandas-docs/stable/user_guide/indexing.html#returning-a-view-versus-a-copy\n",
      "  df2['country']=df2['country'].replace(['Brasil','Deutschland'],['Brazil','Germany'])\n"
     ]
    }
   ],
   "source": [
    "df2['country']=df2['country'].replace(['Brasil','Deutschland'],['Brazil','Germany'])\n"
   ]
  },
  {
   "cell_type": "code",
   "execution_count": 121,
   "id": "ddada0ec",
   "metadata": {},
   "outputs": [
    {
     "data": {
      "text/plain": [
       "India             3077\n",
       "United States     1173\n",
       "United Kingdom    1029\n",
       "Germany             88\n",
       "France              72\n",
       "Brazil              18\n",
       "Name: country, dtype: int64"
      ]
     },
     "execution_count": 121,
     "metadata": {},
     "output_type": "execute_result"
    }
   ],
   "source": [
    "df2['country'].value_counts()"
   ]
  },
  {
   "cell_type": "code",
   "execution_count": 122,
   "id": "c9e1424a",
   "metadata": {},
   "outputs": [],
   "source": [
    "df2.to_csv('C:/Users/Harsh Jain/Desktop/top_countries/2jun.csv')"
   ]
  },
  {
   "cell_type": "code",
   "execution_count": null,
   "id": "f4d7c0cd",
   "metadata": {},
   "outputs": [],
   "source": []
  }
 ],
 "metadata": {
  "kernelspec": {
   "display_name": "Python 3 (ipykernel)",
   "language": "python",
   "name": "python3"
  },
  "language_info": {
   "codemirror_mode": {
    "name": "ipython",
    "version": 3
   },
   "file_extension": ".py",
   "mimetype": "text/x-python",
   "name": "python",
   "nbconvert_exporter": "python",
   "pygments_lexer": "ipython3",
   "version": "3.9.7"
  }
 },
 "nbformat": 4,
 "nbformat_minor": 5
}
